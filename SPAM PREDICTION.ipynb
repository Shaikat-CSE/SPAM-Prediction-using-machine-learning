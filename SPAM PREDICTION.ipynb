{
  "nbformat": 4,
  "nbformat_minor": 0,
  "metadata": {
    "colab": {
      "provenance": []
    },
    "kernelspec": {
      "name": "python3",
      "display_name": "Python 3"
    }
  },
  "cells": [
    {
      "cell_type": "code",
      "metadata": {
        "id": "AUfsbVPwWmyu"
      },
      "source": [
        "import nltk\n",
        "import numpy as np\n",
        "import pandas as pd\n",
        "import matplotlib.pyplot as plt\n",
        "from sklearn.naive_bayes import MultinomialNB\n",
        "from sklearn.model_selection import train_test_split\n",
        "from nltk.corpus import stopwords\n",
        "from nltk.stem import PorterStemmer,WordNetLemmatizer\n",
        "from nltk.tokenize import word_tokenize\n",
        "import sklearn.metrics as m\n",
        "from sklearn.linear_model import LogisticRegression\n",
        "from sklearn.svm import SVC\n",
        "from sklearn.tree import DecisionTreeClassifier\n",
        "from sklearn.feature_extraction.text import TfidfVectorizer\n",
        "import seaborn as sns\n",
        "from sklearn.metrics import confusion_matrix\n",
        "from sklearn.metrics import accuracy_score"
      ],
      "execution_count": 309,
      "outputs": []
    },
    {
      "cell_type": "code",
      "metadata": {
        "id": "Or1sF7YWciRq",
        "outputId": "c514d75a-d1e7-4a03-d6b8-99d07353e3f5",
        "colab": {
          "base_uri": "https://localhost:8080/"
        }
      },
      "source": [
        "nltk.download('punkt')"
      ],
      "execution_count": 310,
      "outputs": [
        {
          "output_type": "stream",
          "name": "stderr",
          "text": [
            "[nltk_data] Downloading package punkt to /root/nltk_data...\n",
            "[nltk_data]   Package punkt is already up-to-date!\n"
          ]
        },
        {
          "output_type": "execute_result",
          "data": {
            "text/plain": [
              "True"
            ]
          },
          "metadata": {},
          "execution_count": 310
        }
      ]
    },
    {
      "cell_type": "code",
      "metadata": {
        "id": "Rpzze5w1c-QT",
        "outputId": "dae854ad-1c1a-4340-b3f6-f6f14b3d0bca",
        "colab": {
          "base_uri": "https://localhost:8080/"
        }
      },
      "source": [
        "nltk.download('stopwords')"
      ],
      "execution_count": 311,
      "outputs": [
        {
          "output_type": "stream",
          "name": "stderr",
          "text": [
            "[nltk_data] Downloading package stopwords to /root/nltk_data...\n",
            "[nltk_data]   Package stopwords is already up-to-date!\n"
          ]
        },
        {
          "output_type": "execute_result",
          "data": {
            "text/plain": [
              "True"
            ]
          },
          "metadata": {},
          "execution_count": 311
        }
      ]
    },
    {
      "cell_type": "code",
      "metadata": {
        "id": "tASSUhe3eEmV",
        "outputId": "9856ec1c-8dc8-4279-fc63-bb6cb75bab6d",
        "colab": {
          "base_uri": "https://localhost:8080/"
        }
      },
      "source": [
        "nltk.download('wordnet')"
      ],
      "execution_count": 312,
      "outputs": [
        {
          "output_type": "stream",
          "name": "stderr",
          "text": [
            "[nltk_data] Downloading package wordnet to /root/nltk_data...\n",
            "[nltk_data]   Package wordnet is already up-to-date!\n"
          ]
        },
        {
          "output_type": "execute_result",
          "data": {
            "text/plain": [
              "True"
            ]
          },
          "metadata": {},
          "execution_count": 312
        }
      ]
    },
    {
      "cell_type": "code",
      "metadata": {
        "id": "fK-B-bRQYWJQ",
        "outputId": "c3c24f0e-7662-4204-f388-61a4234de787",
        "colab": {
          "base_uri": "https://localhost:8080/",
          "height": 424
        }
      },
      "source": [
        "dataset=pd.read_csv('/content/spam.csv',encoding='latin-1')\n",
        "dataset"
      ],
      "execution_count": 313,
      "outputs": [
        {
          "output_type": "execute_result",
          "data": {
            "text/plain": [
              "        v1                                                 v2 Unnamed: 2  \\\n",
              "0      ham  Go until jurong point, crazy.. Available only ...        NaN   \n",
              "1      ham                      Ok lar... Joking wif u oni...        NaN   \n",
              "2     spam  Free entry in 2 a wkly comp to win FA Cup fina...        NaN   \n",
              "3      ham  U dun say so early hor... U c already then say...        NaN   \n",
              "4      ham  Nah I don't think he goes to usf, he lives aro...        NaN   \n",
              "...    ...                                                ...        ...   \n",
              "5567  spam  This is the 2nd time we have tried 2 contact u...        NaN   \n",
              "5568   ham              Will Ì_ b going to esplanade fr home?        NaN   \n",
              "5569   ham  Pity, * was in mood for that. So...any other s...        NaN   \n",
              "5570   ham  The guy did some bitching but I acted like i'd...        NaN   \n",
              "5571   ham                         Rofl. Its true to its name        NaN   \n",
              "\n",
              "     Unnamed: 3 Unnamed: 4  \n",
              "0           NaN        NaN  \n",
              "1           NaN        NaN  \n",
              "2           NaN        NaN  \n",
              "3           NaN        NaN  \n",
              "4           NaN        NaN  \n",
              "...         ...        ...  \n",
              "5567        NaN        NaN  \n",
              "5568        NaN        NaN  \n",
              "5569        NaN        NaN  \n",
              "5570        NaN        NaN  \n",
              "5571        NaN        NaN  \n",
              "\n",
              "[5572 rows x 5 columns]"
            ],
            "text/html": [
              "\n",
              "  <div id=\"df-83f45a7c-592d-4ab9-8a2a-f6d767410cc3\" class=\"colab-df-container\">\n",
              "    <div>\n",
              "<style scoped>\n",
              "    .dataframe tbody tr th:only-of-type {\n",
              "        vertical-align: middle;\n",
              "    }\n",
              "\n",
              "    .dataframe tbody tr th {\n",
              "        vertical-align: top;\n",
              "    }\n",
              "\n",
              "    .dataframe thead th {\n",
              "        text-align: right;\n",
              "    }\n",
              "</style>\n",
              "<table border=\"1\" class=\"dataframe\">\n",
              "  <thead>\n",
              "    <tr style=\"text-align: right;\">\n",
              "      <th></th>\n",
              "      <th>v1</th>\n",
              "      <th>v2</th>\n",
              "      <th>Unnamed: 2</th>\n",
              "      <th>Unnamed: 3</th>\n",
              "      <th>Unnamed: 4</th>\n",
              "    </tr>\n",
              "  </thead>\n",
              "  <tbody>\n",
              "    <tr>\n",
              "      <th>0</th>\n",
              "      <td>ham</td>\n",
              "      <td>Go until jurong point, crazy.. Available only ...</td>\n",
              "      <td>NaN</td>\n",
              "      <td>NaN</td>\n",
              "      <td>NaN</td>\n",
              "    </tr>\n",
              "    <tr>\n",
              "      <th>1</th>\n",
              "      <td>ham</td>\n",
              "      <td>Ok lar... Joking wif u oni...</td>\n",
              "      <td>NaN</td>\n",
              "      <td>NaN</td>\n",
              "      <td>NaN</td>\n",
              "    </tr>\n",
              "    <tr>\n",
              "      <th>2</th>\n",
              "      <td>spam</td>\n",
              "      <td>Free entry in 2 a wkly comp to win FA Cup fina...</td>\n",
              "      <td>NaN</td>\n",
              "      <td>NaN</td>\n",
              "      <td>NaN</td>\n",
              "    </tr>\n",
              "    <tr>\n",
              "      <th>3</th>\n",
              "      <td>ham</td>\n",
              "      <td>U dun say so early hor... U c already then say...</td>\n",
              "      <td>NaN</td>\n",
              "      <td>NaN</td>\n",
              "      <td>NaN</td>\n",
              "    </tr>\n",
              "    <tr>\n",
              "      <th>4</th>\n",
              "      <td>ham</td>\n",
              "      <td>Nah I don't think he goes to usf, he lives aro...</td>\n",
              "      <td>NaN</td>\n",
              "      <td>NaN</td>\n",
              "      <td>NaN</td>\n",
              "    </tr>\n",
              "    <tr>\n",
              "      <th>...</th>\n",
              "      <td>...</td>\n",
              "      <td>...</td>\n",
              "      <td>...</td>\n",
              "      <td>...</td>\n",
              "      <td>...</td>\n",
              "    </tr>\n",
              "    <tr>\n",
              "      <th>5567</th>\n",
              "      <td>spam</td>\n",
              "      <td>This is the 2nd time we have tried 2 contact u...</td>\n",
              "      <td>NaN</td>\n",
              "      <td>NaN</td>\n",
              "      <td>NaN</td>\n",
              "    </tr>\n",
              "    <tr>\n",
              "      <th>5568</th>\n",
              "      <td>ham</td>\n",
              "      <td>Will Ì_ b going to esplanade fr home?</td>\n",
              "      <td>NaN</td>\n",
              "      <td>NaN</td>\n",
              "      <td>NaN</td>\n",
              "    </tr>\n",
              "    <tr>\n",
              "      <th>5569</th>\n",
              "      <td>ham</td>\n",
              "      <td>Pity, * was in mood for that. So...any other s...</td>\n",
              "      <td>NaN</td>\n",
              "      <td>NaN</td>\n",
              "      <td>NaN</td>\n",
              "    </tr>\n",
              "    <tr>\n",
              "      <th>5570</th>\n",
              "      <td>ham</td>\n",
              "      <td>The guy did some bitching but I acted like i'd...</td>\n",
              "      <td>NaN</td>\n",
              "      <td>NaN</td>\n",
              "      <td>NaN</td>\n",
              "    </tr>\n",
              "    <tr>\n",
              "      <th>5571</th>\n",
              "      <td>ham</td>\n",
              "      <td>Rofl. Its true to its name</td>\n",
              "      <td>NaN</td>\n",
              "      <td>NaN</td>\n",
              "      <td>NaN</td>\n",
              "    </tr>\n",
              "  </tbody>\n",
              "</table>\n",
              "<p>5572 rows × 5 columns</p>\n",
              "</div>\n",
              "    <div class=\"colab-df-buttons\">\n",
              "\n",
              "  <div class=\"colab-df-container\">\n",
              "    <button class=\"colab-df-convert\" onclick=\"convertToInteractive('df-83f45a7c-592d-4ab9-8a2a-f6d767410cc3')\"\n",
              "            title=\"Convert this dataframe to an interactive table.\"\n",
              "            style=\"display:none;\">\n",
              "\n",
              "  <svg xmlns=\"http://www.w3.org/2000/svg\" height=\"24px\" viewBox=\"0 -960 960 960\">\n",
              "    <path d=\"M120-120v-720h720v720H120Zm60-500h600v-160H180v160Zm220 220h160v-160H400v160Zm0 220h160v-160H400v160ZM180-400h160v-160H180v160Zm440 0h160v-160H620v160ZM180-180h160v-160H180v160Zm440 0h160v-160H620v160Z\"/>\n",
              "  </svg>\n",
              "    </button>\n",
              "\n",
              "  <style>\n",
              "    .colab-df-container {\n",
              "      display:flex;\n",
              "      gap: 12px;\n",
              "    }\n",
              "\n",
              "    .colab-df-convert {\n",
              "      background-color: #E8F0FE;\n",
              "      border: none;\n",
              "      border-radius: 50%;\n",
              "      cursor: pointer;\n",
              "      display: none;\n",
              "      fill: #1967D2;\n",
              "      height: 32px;\n",
              "      padding: 0 0 0 0;\n",
              "      width: 32px;\n",
              "    }\n",
              "\n",
              "    .colab-df-convert:hover {\n",
              "      background-color: #E2EBFA;\n",
              "      box-shadow: 0px 1px 2px rgba(60, 64, 67, 0.3), 0px 1px 3px 1px rgba(60, 64, 67, 0.15);\n",
              "      fill: #174EA6;\n",
              "    }\n",
              "\n",
              "    .colab-df-buttons div {\n",
              "      margin-bottom: 4px;\n",
              "    }\n",
              "\n",
              "    [theme=dark] .colab-df-convert {\n",
              "      background-color: #3B4455;\n",
              "      fill: #D2E3FC;\n",
              "    }\n",
              "\n",
              "    [theme=dark] .colab-df-convert:hover {\n",
              "      background-color: #434B5C;\n",
              "      box-shadow: 0px 1px 3px 1px rgba(0, 0, 0, 0.15);\n",
              "      filter: drop-shadow(0px 1px 2px rgba(0, 0, 0, 0.3));\n",
              "      fill: #FFFFFF;\n",
              "    }\n",
              "  </style>\n",
              "\n",
              "    <script>\n",
              "      const buttonEl =\n",
              "        document.querySelector('#df-83f45a7c-592d-4ab9-8a2a-f6d767410cc3 button.colab-df-convert');\n",
              "      buttonEl.style.display =\n",
              "        google.colab.kernel.accessAllowed ? 'block' : 'none';\n",
              "\n",
              "      async function convertToInteractive(key) {\n",
              "        const element = document.querySelector('#df-83f45a7c-592d-4ab9-8a2a-f6d767410cc3');\n",
              "        const dataTable =\n",
              "          await google.colab.kernel.invokeFunction('convertToInteractive',\n",
              "                                                    [key], {});\n",
              "        if (!dataTable) return;\n",
              "\n",
              "        const docLinkHtml = 'Like what you see? Visit the ' +\n",
              "          '<a target=\"_blank\" href=https://colab.research.google.com/notebooks/data_table.ipynb>data table notebook</a>'\n",
              "          + ' to learn more about interactive tables.';\n",
              "        element.innerHTML = '';\n",
              "        dataTable['output_type'] = 'display_data';\n",
              "        await google.colab.output.renderOutput(dataTable, element);\n",
              "        const docLink = document.createElement('div');\n",
              "        docLink.innerHTML = docLinkHtml;\n",
              "        element.appendChild(docLink);\n",
              "      }\n",
              "    </script>\n",
              "  </div>\n",
              "\n",
              "\n",
              "<div id=\"df-f668f2d3-1924-4353-a1bf-8f04fb531360\">\n",
              "  <button class=\"colab-df-quickchart\" onclick=\"quickchart('df-f668f2d3-1924-4353-a1bf-8f04fb531360')\"\n",
              "            title=\"Suggest charts\"\n",
              "            style=\"display:none;\">\n",
              "\n",
              "<svg xmlns=\"http://www.w3.org/2000/svg\" height=\"24px\"viewBox=\"0 0 24 24\"\n",
              "     width=\"24px\">\n",
              "    <g>\n",
              "        <path d=\"M19 3H5c-1.1 0-2 .9-2 2v14c0 1.1.9 2 2 2h14c1.1 0 2-.9 2-2V5c0-1.1-.9-2-2-2zM9 17H7v-7h2v7zm4 0h-2V7h2v10zm4 0h-2v-4h2v4z\"/>\n",
              "    </g>\n",
              "</svg>\n",
              "  </button>\n",
              "\n",
              "<style>\n",
              "  .colab-df-quickchart {\n",
              "      --bg-color: #E8F0FE;\n",
              "      --fill-color: #1967D2;\n",
              "      --hover-bg-color: #E2EBFA;\n",
              "      --hover-fill-color: #174EA6;\n",
              "      --disabled-fill-color: #AAA;\n",
              "      --disabled-bg-color: #DDD;\n",
              "  }\n",
              "\n",
              "  [theme=dark] .colab-df-quickchart {\n",
              "      --bg-color: #3B4455;\n",
              "      --fill-color: #D2E3FC;\n",
              "      --hover-bg-color: #434B5C;\n",
              "      --hover-fill-color: #FFFFFF;\n",
              "      --disabled-bg-color: #3B4455;\n",
              "      --disabled-fill-color: #666;\n",
              "  }\n",
              "\n",
              "  .colab-df-quickchart {\n",
              "    background-color: var(--bg-color);\n",
              "    border: none;\n",
              "    border-radius: 50%;\n",
              "    cursor: pointer;\n",
              "    display: none;\n",
              "    fill: var(--fill-color);\n",
              "    height: 32px;\n",
              "    padding: 0;\n",
              "    width: 32px;\n",
              "  }\n",
              "\n",
              "  .colab-df-quickchart:hover {\n",
              "    background-color: var(--hover-bg-color);\n",
              "    box-shadow: 0 1px 2px rgba(60, 64, 67, 0.3), 0 1px 3px 1px rgba(60, 64, 67, 0.15);\n",
              "    fill: var(--button-hover-fill-color);\n",
              "  }\n",
              "\n",
              "  .colab-df-quickchart-complete:disabled,\n",
              "  .colab-df-quickchart-complete:disabled:hover {\n",
              "    background-color: var(--disabled-bg-color);\n",
              "    fill: var(--disabled-fill-color);\n",
              "    box-shadow: none;\n",
              "  }\n",
              "\n",
              "  .colab-df-spinner {\n",
              "    border: 2px solid var(--fill-color);\n",
              "    border-color: transparent;\n",
              "    border-bottom-color: var(--fill-color);\n",
              "    animation:\n",
              "      spin 1s steps(1) infinite;\n",
              "  }\n",
              "\n",
              "  @keyframes spin {\n",
              "    0% {\n",
              "      border-color: transparent;\n",
              "      border-bottom-color: var(--fill-color);\n",
              "      border-left-color: var(--fill-color);\n",
              "    }\n",
              "    20% {\n",
              "      border-color: transparent;\n",
              "      border-left-color: var(--fill-color);\n",
              "      border-top-color: var(--fill-color);\n",
              "    }\n",
              "    30% {\n",
              "      border-color: transparent;\n",
              "      border-left-color: var(--fill-color);\n",
              "      border-top-color: var(--fill-color);\n",
              "      border-right-color: var(--fill-color);\n",
              "    }\n",
              "    40% {\n",
              "      border-color: transparent;\n",
              "      border-right-color: var(--fill-color);\n",
              "      border-top-color: var(--fill-color);\n",
              "    }\n",
              "    60% {\n",
              "      border-color: transparent;\n",
              "      border-right-color: var(--fill-color);\n",
              "    }\n",
              "    80% {\n",
              "      border-color: transparent;\n",
              "      border-right-color: var(--fill-color);\n",
              "      border-bottom-color: var(--fill-color);\n",
              "    }\n",
              "    90% {\n",
              "      border-color: transparent;\n",
              "      border-bottom-color: var(--fill-color);\n",
              "    }\n",
              "  }\n",
              "</style>\n",
              "\n",
              "  <script>\n",
              "    async function quickchart(key) {\n",
              "      const quickchartButtonEl =\n",
              "        document.querySelector('#' + key + ' button');\n",
              "      quickchartButtonEl.disabled = true;  // To prevent multiple clicks.\n",
              "      quickchartButtonEl.classList.add('colab-df-spinner');\n",
              "      try {\n",
              "        const charts = await google.colab.kernel.invokeFunction(\n",
              "            'suggestCharts', [key], {});\n",
              "      } catch (error) {\n",
              "        console.error('Error during call to suggestCharts:', error);\n",
              "      }\n",
              "      quickchartButtonEl.classList.remove('colab-df-spinner');\n",
              "      quickchartButtonEl.classList.add('colab-df-quickchart-complete');\n",
              "    }\n",
              "    (() => {\n",
              "      let quickchartButtonEl =\n",
              "        document.querySelector('#df-f668f2d3-1924-4353-a1bf-8f04fb531360 button');\n",
              "      quickchartButtonEl.style.display =\n",
              "        google.colab.kernel.accessAllowed ? 'block' : 'none';\n",
              "    })();\n",
              "  </script>\n",
              "</div>\n",
              "\n",
              "  <div id=\"id_6aad090a-a059-4aa9-9035-42f1b618869a\">\n",
              "    <style>\n",
              "      .colab-df-generate {\n",
              "        background-color: #E8F0FE;\n",
              "        border: none;\n",
              "        border-radius: 50%;\n",
              "        cursor: pointer;\n",
              "        display: none;\n",
              "        fill: #1967D2;\n",
              "        height: 32px;\n",
              "        padding: 0 0 0 0;\n",
              "        width: 32px;\n",
              "      }\n",
              "\n",
              "      .colab-df-generate:hover {\n",
              "        background-color: #E2EBFA;\n",
              "        box-shadow: 0px 1px 2px rgba(60, 64, 67, 0.3), 0px 1px 3px 1px rgba(60, 64, 67, 0.15);\n",
              "        fill: #174EA6;\n",
              "      }\n",
              "\n",
              "      [theme=dark] .colab-df-generate {\n",
              "        background-color: #3B4455;\n",
              "        fill: #D2E3FC;\n",
              "      }\n",
              "\n",
              "      [theme=dark] .colab-df-generate:hover {\n",
              "        background-color: #434B5C;\n",
              "        box-shadow: 0px 1px 3px 1px rgba(0, 0, 0, 0.15);\n",
              "        filter: drop-shadow(0px 1px 2px rgba(0, 0, 0, 0.3));\n",
              "        fill: #FFFFFF;\n",
              "      }\n",
              "    </style>\n",
              "    <button class=\"colab-df-generate\" onclick=\"generateWithVariable('dataset')\"\n",
              "            title=\"Generate code using this dataframe.\"\n",
              "            style=\"display:none;\">\n",
              "\n",
              "  <svg xmlns=\"http://www.w3.org/2000/svg\" height=\"24px\"viewBox=\"0 0 24 24\"\n",
              "       width=\"24px\">\n",
              "    <path d=\"M7,19H8.4L18.45,9,17,7.55,7,17.6ZM5,21V16.75L18.45,3.32a2,2,0,0,1,2.83,0l1.4,1.43a1.91,1.91,0,0,1,.58,1.4,1.91,1.91,0,0,1-.58,1.4L9.25,21ZM18.45,9,17,7.55Zm-12,3A5.31,5.31,0,0,0,4.9,8.1,5.31,5.31,0,0,0,1,6.5,5.31,5.31,0,0,0,4.9,4.9,5.31,5.31,0,0,0,6.5,1,5.31,5.31,0,0,0,8.1,4.9,5.31,5.31,0,0,0,12,6.5,5.46,5.46,0,0,0,6.5,12Z\"/>\n",
              "  </svg>\n",
              "    </button>\n",
              "    <script>\n",
              "      (() => {\n",
              "      const buttonEl =\n",
              "        document.querySelector('#id_6aad090a-a059-4aa9-9035-42f1b618869a button.colab-df-generate');\n",
              "      buttonEl.style.display =\n",
              "        google.colab.kernel.accessAllowed ? 'block' : 'none';\n",
              "\n",
              "      buttonEl.onclick = () => {\n",
              "        google.colab.notebook.generateWithVariable('dataset');\n",
              "      }\n",
              "      })();\n",
              "    </script>\n",
              "  </div>\n",
              "\n",
              "    </div>\n",
              "  </div>\n"
            ]
          },
          "metadata": {},
          "execution_count": 313
        }
      ]
    },
    {
      "cell_type": "code",
      "metadata": {
        "id": "X8EGjXEwYvxk"
      },
      "source": [
        "sent=dataset.iloc[:,[1]]['v2']"
      ],
      "execution_count": 314,
      "outputs": []
    },
    {
      "cell_type": "code",
      "metadata": {
        "id": "ooxUwioXZ8h5",
        "outputId": "b02727c8-5d8b-46b2-89b3-b123f307ce2e",
        "colab": {
          "base_uri": "https://localhost:8080/"
        }
      },
      "source": [
        "sent"
      ],
      "execution_count": 315,
      "outputs": [
        {
          "output_type": "execute_result",
          "data": {
            "text/plain": [
              "0       Go until jurong point, crazy.. Available only ...\n",
              "1                           Ok lar... Joking wif u oni...\n",
              "2       Free entry in 2 a wkly comp to win FA Cup fina...\n",
              "3       U dun say so early hor... U c already then say...\n",
              "4       Nah I don't think he goes to usf, he lives aro...\n",
              "                              ...                        \n",
              "5567    This is the 2nd time we have tried 2 contact u...\n",
              "5568                Will Ì_ b going to esplanade fr home?\n",
              "5569    Pity, * was in mood for that. So...any other s...\n",
              "5570    The guy did some bitching but I acted like i'd...\n",
              "5571                           Rofl. Its true to its name\n",
              "Name: v2, Length: 5572, dtype: object"
            ]
          },
          "metadata": {},
          "execution_count": 315
        }
      ]
    },
    {
      "cell_type": "code",
      "metadata": {
        "id": "YTjhcQHhZ9sG"
      },
      "source": [
        "label=dataset.iloc[:,[0]]['v1']"
      ],
      "execution_count": 316,
      "outputs": []
    },
    {
      "cell_type": "code",
      "metadata": {
        "id": "t0aZX_awaLr5",
        "outputId": "aa52fa10-35fb-4323-95b1-dfdf03280f85",
        "colab": {
          "base_uri": "https://localhost:8080/"
        }
      },
      "source": [
        "label"
      ],
      "execution_count": 317,
      "outputs": [
        {
          "output_type": "execute_result",
          "data": {
            "text/plain": [
              "0        ham\n",
              "1        ham\n",
              "2       spam\n",
              "3        ham\n",
              "4        ham\n",
              "        ... \n",
              "5567    spam\n",
              "5568     ham\n",
              "5569     ham\n",
              "5570     ham\n",
              "5571     ham\n",
              "Name: v1, Length: 5572, dtype: object"
            ]
          },
          "metadata": {},
          "execution_count": 317
        }
      ]
    },
    {
      "cell_type": "code",
      "metadata": {
        "id": "_bRcJFsoaSkU"
      },
      "source": [
        "from sklearn.preprocessing import LabelEncoder"
      ],
      "execution_count": 318,
      "outputs": []
    },
    {
      "cell_type": "code",
      "metadata": {
        "id": "ffQ7zn8-aiD1"
      },
      "source": [
        "le=LabelEncoder()\n",
        "label=le.fit_transform(label)"
      ],
      "execution_count": 319,
      "outputs": []
    },
    {
      "cell_type": "code",
      "metadata": {
        "id": "bTbrdGxdar3V",
        "outputId": "367d6732-3252-48bd-e42d-b4afbd4d8c5c",
        "colab": {
          "base_uri": "https://localhost:8080/"
        }
      },
      "source": [
        "label"
      ],
      "execution_count": 320,
      "outputs": [
        {
          "output_type": "execute_result",
          "data": {
            "text/plain": [
              "array([0, 0, 1, ..., 0, 0, 0])"
            ]
          },
          "metadata": {},
          "execution_count": 320
        }
      ]
    },
    {
      "cell_type": "code",
      "metadata": {
        "id": "XDq789kVatEx",
        "outputId": "e372b7f2-8b6f-4338-ea78-4eb555f51071",
        "colab": {
          "base_uri": "https://localhost:8080/"
        }
      },
      "source": [
        "le.classes_"
      ],
      "execution_count": 321,
      "outputs": [
        {
          "output_type": "execute_result",
          "data": {
            "text/plain": [
              "array(['ham', 'spam'], dtype=object)"
            ]
          },
          "metadata": {},
          "execution_count": 321
        }
      ]
    },
    {
      "cell_type": "code",
      "metadata": {
        "id": "KYAibBjsblYp"
      },
      "source": [
        "import re"
      ],
      "execution_count": 322,
      "outputs": []
    },
    {
      "cell_type": "code",
      "metadata": {
        "id": "eQ5Dj_ZncvlZ",
        "outputId": "e38b72ad-f426-4003-9cb6-ca6c9c54df54",
        "colab": {
          "base_uri": "https://localhost:8080/"
        }
      },
      "source": [
        "len(set(stopwords.words('english')))"
      ],
      "execution_count": 323,
      "outputs": [
        {
          "output_type": "execute_result",
          "data": {
            "text/plain": [
              "179"
            ]
          },
          "metadata": {},
          "execution_count": 323
        }
      ]
    },
    {
      "cell_type": "code",
      "metadata": {
        "id": "1Gn4pVcUd7St"
      },
      "source": [
        "stem=PorterStemmer()"
      ],
      "execution_count": 324,
      "outputs": []
    },
    {
      "cell_type": "code",
      "metadata": {
        "id": "LfQdPwDMe3N9",
        "outputId": "26144788-cf51-4f5b-d613-a0a999f895a2",
        "colab": {
          "base_uri": "https://localhost:8080/"
        }
      },
      "source": [
        "sent"
      ],
      "execution_count": 325,
      "outputs": [
        {
          "output_type": "execute_result",
          "data": {
            "text/plain": [
              "0       Go until jurong point, crazy.. Available only ...\n",
              "1                           Ok lar... Joking wif u oni...\n",
              "2       Free entry in 2 a wkly comp to win FA Cup fina...\n",
              "3       U dun say so early hor... U c already then say...\n",
              "4       Nah I don't think he goes to usf, he lives aro...\n",
              "                              ...                        \n",
              "5567    This is the 2nd time we have tried 2 contact u...\n",
              "5568                Will Ì_ b going to esplanade fr home?\n",
              "5569    Pity, * was in mood for that. So...any other s...\n",
              "5570    The guy did some bitching but I acted like i'd...\n",
              "5571                           Rofl. Its true to its name\n",
              "Name: v2, Length: 5572, dtype: object"
            ]
          },
          "metadata": {},
          "execution_count": 325
        }
      ]
    },
    {
      "cell_type": "code",
      "metadata": {
        "id": "IsLOk47YavXT"
      },
      "source": [
        "sentences=[]\n",
        "for sen in sent:\n",
        "  senti=re.sub('[^A-Za-z]',' ',sen)\n",
        "  senti=senti.lower()\n",
        "  words=word_tokenize(senti)\n",
        "  word=[stem.stem(i) for i in words if i not in stopwords.words('english')]\n",
        "  senti=' '.join(word)\n",
        "  sentences.append(senti)\n"
      ],
      "execution_count": 326,
      "outputs": []
    },
    {
      "cell_type": "code",
      "metadata": {
        "id": "t7mJTzK-cZQ9",
        "outputId": "1c7bc73b-d63f-4d66-aa0d-cf1392f76e30",
        "colab": {
          "base_uri": "https://localhost:8080/"
        }
      },
      "source": [
        "sentences"
      ],
      "execution_count": 327,
      "outputs": [
        {
          "output_type": "execute_result",
          "data": {
            "text/plain": [
              "['go jurong point crazi avail bugi n great world la e buffet cine got amor wat',\n",
              " 'ok lar joke wif u oni',\n",
              " 'free entri wkli comp win fa cup final tkt st may text fa receiv entri question std txt rate c appli',\n",
              " 'u dun say earli hor u c alreadi say',\n",
              " 'nah think goe usf live around though',\n",
              " 'freemsg hey darl week word back like fun still tb ok xxx std chg send rcv',\n",
              " 'even brother like speak treat like aid patent',\n",
              " 'per request mell mell oru minnaminungint nurungu vettam set callertun caller press copi friend callertun',\n",
              " 'winner valu network custom select receivea prize reward claim call claim code kl valid hour',\n",
              " 'mobil month u r entitl updat latest colour mobil camera free call mobil updat co free',\n",
              " 'gon na home soon want talk stuff anymor tonight k cri enough today',\n",
              " 'six chanc win cash pound txt csh send cost p day day tsandc appli repli hl info',\n",
              " 'urgent week free membership prize jackpot txt word claim c www dbuk net lccltd pobox ldnw rw',\n",
              " 'search right word thank breather promis wont take help grant fulfil promis wonder bless time',\n",
              " 'date sunday',\n",
              " 'xxxmobilemovieclub use credit click wap link next txt messag click http wap xxxmobilemovieclub com n qjkgighjjgcbl',\n",
              " 'oh k watch',\n",
              " 'eh u rememb spell name ye v naughti make v wet',\n",
              " 'fine way u feel way gota b',\n",
              " 'england v macedonia dont miss goal team news txt ur nation team eg england tri wale scotland txt poboxox w wq',\n",
              " 'serious spell name',\n",
              " 'go tri month ha ha joke',\n",
              " 'pay first lar da stock comin',\n",
              " 'aft finish lunch go str lor ard smth lor u finish ur lunch alreadi',\n",
              " 'ffffffffff alright way meet sooner',\n",
              " 'forc eat slice realli hungri tho suck mark get worri know sick turn pizza lol',\n",
              " 'lol alway convinc',\n",
              " 'catch bu fri egg make tea eat mom left dinner feel love',\n",
              " 'back amp pack car let know room',\n",
              " 'ahhh work vagu rememb feel like lol',\n",
              " 'wait still clear sure sarcast x want live us',\n",
              " 'yeah got v apologet n fallen actin like spoilt child got caught till go badli cheer',\n",
              " 'k tell anyth',\n",
              " 'fear faint housework quick cuppa',\n",
              " 'thank subscript rington uk mobil charg month pleas confirm repli ye repli charg',\n",
              " 'yup ok go home look time msg xuhui go learn nd may lesson',\n",
              " 'oop let know roommat done',\n",
              " 'see letter b car',\n",
              " 'anyth lor u decid',\n",
              " 'hello saturday go text see decid anyth tomo tri invit anyth',\n",
              " 'pl go ahead watt want sure great weekend abiola',\n",
              " 'forget tell want need crave love sweet arabian steed mmmmmm yummi',\n",
              " 'rodger burn msg tri call repli sm free nokia mobil free camcord pleas call deliveri tomorrow',\n",
              " 'see',\n",
              " 'great hope like man well endow lt gt inch',\n",
              " 'call messag miss call',\n",
              " 'get hep b immunis nigeria',\n",
              " 'fair enough anyth go',\n",
              " 'yeah hope tyler could mayb ask around bit',\n",
              " 'u know stubborn even want go hospit kept tell mark weak sucker hospit weak sucker',\n",
              " 'think first time saw class',\n",
              " 'gram usual run like lt gt half eighth smarter though get almost whole second gram lt gt',\n",
              " 'k fyi x ride earli tomorrow morn crash place tonight',\n",
              " 'wow never realiz embarass accomod thought like sinc best could alway seem happi cave sorri give sorri offer sorri room embarass',\n",
              " 'sm ac sptv new jersey devil detroit red wing play ice hockey correct incorrect end repli end sptv',\n",
              " 'know mallika sherawat yesterday find lt url gt',\n",
              " 'congrat year special cinema pass call c suprman v matrix starwar etc free bx ip pm dont miss',\n",
              " 'sorri call later meet',\n",
              " 'tell reach',\n",
              " 'ye gauti sehwag odi seri',\n",
              " 'gon na pick burger way home even move pain kill',\n",
              " 'ha ha ha good joke girl situat seeker',\n",
              " 'part check iq',\n",
              " 'sorri roommat took forev ok come',\n",
              " 'ok lar doubl check wif da hair dresser alreadi said wun cut v short said cut look nice',\n",
              " 'valu custom pleas advis follow recent review mob award bonu prize call',\n",
              " 'today song dedic day song u dedic send ur valuabl frnd first rpli',\n",
              " 'urgent ur award complimentari trip eurodisinc trav aco entri claim txt di morefrmmob shracomorsglsuplt ls aj',\n",
              " 'hear new divorc barbi come ken stuff',\n",
              " 'plane give month end',\n",
              " 'wah lucki man save money hee',\n",
              " 'finish class',\n",
              " 'hi babe im home wan na someth xx',\n",
              " 'k k perform',\n",
              " 'u call',\n",
              " 'wait machan call free',\n",
              " 'that cool gentleman treat digniti respect',\n",
              " 'like peopl much shi pa',\n",
              " 'oper lt gt',\n",
              " 'still look job much ta earn',\n",
              " 'sorri call later',\n",
              " 'k call ah',\n",
              " 'ok way home hi hi',\n",
              " 'place man',\n",
              " 'yup next stop',\n",
              " 'call later network urgnt sm',\n",
              " 'real u get yo need ticket one jacket done alreadi use multi',\n",
              " 'ye start send request make pain came back back bed doubl coin factori got ta cash nitro',\n",
              " 'realli still tonight babe',\n",
              " 'ela kano il download come wen ur free',\n",
              " 'yeah stand close tho catch someth',\n",
              " 'sorri pain ok meet anoth night spent late afternoon casualti mean done stuff moro includ time sheet sorri',\n",
              " 'smile pleasur smile pain smile troubl pour like rain smile sum hurt u smile becoz someon still love see u smile',\n",
              " 'pleas call custom servic repres pm guarante cash prize',\n",
              " 'havent plan buy later check alreadi lido got show e afternoon u finish work alreadi',\n",
              " 'free rington wait collect simpli text password mix verifi get usher britney fml',\n",
              " 'watch telugu movi wat abt u',\n",
              " 'see finish load loan pay',\n",
              " 'hi wk ok hol ye bit run forgot hairdress appoint four need get home n shower beforehand caus prob u ham',\n",
              " 'pleas text anymor noth els say',\n",
              " 'okay name ur price long legal wen pick u ave x am xx',\n",
              " 'still look car buy gone drive test yet',\n",
              " 'per request mell mell oru minnaminungint nurungu vettam set callertun caller press copi friend callertun',\n",
              " 'wow right mean guess gave boston men chang search locat nyc someth chang cuz signin page still say boston',\n",
              " 'umma life vava umma love lot dear',\n",
              " 'thank lot wish birthday thank make birthday truli memor',\n",
              " 'aight hit get cash',\n",
              " 'would ip address test consid comput minecraft server',\n",
              " 'know grumpi old peopl mom like better lie alway one play joke',\n",
              " 'dont worri guess busi',\n",
              " 'plural noun research',\n",
              " 'go dinner msg',\n",
              " 'ok wif co like tri new thing scare u dun like mah co u said loud',\n",
              " 'gent tri contact last weekend draw show prize guarante call claim code k valid hr ppm',\n",
              " 'wa ur openin sentenc formal anyway fine juz tt eatin much n puttin weight haha anythin special happen',\n",
              " 'enter cabin pa said happi b day boss felt special askd lunch lunch invit apart went',\n",
              " 'winner u special select receiv holiday flight inc speak live oper claim p min',\n",
              " 'goodo ye must speak friday egg potato ratio tortilla need',\n",
              " 'hmm uncl inform pay school directli pl buy food',\n",
              " 'privat account statement show unredeem bonu point claim call identifi code expir',\n",
              " 'urgent mobil award bonu caller prize final tri contact u call landlin box wr c ppm',\n",
              " 'new address appl pair malarki',\n",
              " 'today voda number end select receiv award match pleas call quot claim code standard rate app',\n",
              " 'go sao mu today done',\n",
              " 'predict wat time finish buy',\n",
              " 'good stuff',\n",
              " 'know yetund sent money yet sent text bother send dont involv anyth impos anyth first place apologis',\n",
              " 'room',\n",
              " 'hey girl r u hope u r well del r bak long time c give call sum time lucyxx',\n",
              " 'k k much cost',\n",
              " 'home',\n",
              " 'dear call tmorrow pl accomod',\n",
              " 'first answer question',\n",
              " 'sunshin quiz wkli q win top soni dvd player u know countri algarv txt ansr sp tyron',\n",
              " 'want get laid tonight want real dog locat sent direct ur mob join uk largest dog network bt txting gravel nt ec p msg p',\n",
              " 'haf msn yiju hotmail com',\n",
              " 'call meet',\n",
              " 'check room befor activ',\n",
              " 'rcv msg chat svc free hardcor servic text go u get noth u must age verifi yr network tri',\n",
              " 'got c lazi type forgot lect saw pouch like v nice',\n",
              " 'k text way',\n",
              " 'sir wait mail',\n",
              " 'swt thought nver get tire littl thing lovabl person coz somtim littl thing occupi biggest part heart gud ni',\n",
              " 'know pl open back',\n",
              " 'ye see ya dot',\n",
              " 'what staff name take class us',\n",
              " 'freemsg repli text randi sexi femal live local luv hear u netcollex ltd p per msg repli stop end',\n",
              " 'ummma call check life begin qatar pl pray hard',\n",
              " 'k delet contact',\n",
              " 'sindu got job birla soft',\n",
              " 'wine flow never',\n",
              " 'yup thk cine better co need go plaza mah',\n",
              " 'ok ur typic repli',\n",
              " 'per request mell mell oru minnaminungint nurungu vettam set callertun caller press copi friend callertun',\n",
              " 'everywher dirt floor window even shirt sometim open mouth come flow dream world without half chore time joy lot tv show see guess like thing must exist like rain hail mist time done becom one',\n",
              " 'aaooooright work',\n",
              " 'leav hous',\n",
              " 'hello love get interview today happi good boy think miss',\n",
              " 'custom servic annonc new year deliveri wait pleas call arrang deliveri',\n",
              " 'winner u special select receiv cash holiday flight inc speak live oper claim',\n",
              " 'keep safe need miss alreadi envi everyon see real life',\n",
              " 'new car hous parent new job hand',\n",
              " 'love excit day spend make happi',\n",
              " 'pl stop bootydeli f invit friend repli ye see www sm ac u bootydeli stop send stop frnd',\n",
              " 'bangbab ur order way u receiv servic msg download ur content u goto wap bangb tv ur mobil internet servic menu',\n",
              " 'place ur point e cultur modul alreadi',\n",
              " 'urgent tri contact last weekend draw show prize guarante call claim code valid hr',\n",
              " 'hi frnd best way avoid missunderstd wit belov one',\n",
              " 'great escap fanci bridg need lager see tomo',\n",
              " 'ye complet form clark also utter wast',\n",
              " 'sir need axi bank account bank address',\n",
              " 'hmmm thk sure got time hop ard ya go free abt muz call u discuss liao',\n",
              " 'time come later',\n",
              " 'bloodi hell cant believ forgot surnam mr ill give u clue spanish begin',\n",
              " 'well gon na finish bath good fine night',\n",
              " 'let know got money carlo make call',\n",
              " 'u still go mall',\n",
              " 'turn friend stay whole show back til lt gt feel free go ahead smoke lt gt worth',\n",
              " 'text doesnt repli let know log',\n",
              " 'hi spoke maneesha v like know satisfi experi repli toll free ye',\n",
              " 'lift hope offer money need especi end month approach hurt studi anyway gr weekend',\n",
              " 'lol u trust',\n",
              " 'ok gentleman treat digniti respect',\n",
              " 'guy close',\n",
              " 'go noth great bye',\n",
              " 'hello handsom find job lazi work toward get back net mummi boytoy miss',\n",
              " 'haha awesom minut',\n",
              " 'pleas call custom servic repres freephon pm guarante cash prize',\n",
              " 'got xma radio time get',\n",
              " 'ju reach home go bath first si use net tell u finish k',\n",
              " 'uniqu enough find th august www areyouuniqu co uk',\n",
              " 'sorri join leagu peopl dont keep touch mean great deal friend time even great person cost great week',\n",
              " 'hi final complet cours',\n",
              " 'stop howev suggest stay someon abl give or everi stool',\n",
              " 'hope settl new school year wishin gr day',\n",
              " 'gud mrng dear hav nice day',\n",
              " 'u got person stori',\n",
              " 'hamster dead hey tmr meet pm orchard mrt',\n",
              " 'hi kate even hope see tomorrow bit bloodi babyjontet txt back u xxx',\n",
              " 'found enc lt gt',\n",
              " 'sent lt gt buck',\n",
              " 'hello darlin ive finish colleg txt u finish u love kate xxx',\n",
              " 'account refil success inr lt decim gt keralacircl prepaid account balanc rs lt decim gt transact id kr lt gt',\n",
              " 'goodmorn sleep ga',\n",
              " 'u call alter ok',\n",
              " 'say like dat dun buy ericsson oso oredi lar',\n",
              " 'enter cabin pa said happi b day boss felt special askd lunch lunch invit apart went',\n",
              " 'aight yo dat straight dogg',\n",
              " 'pleas give us connect today lt decim gt refund bill',\n",
              " 'shoot big load get readi',\n",
              " 'bruv hope great break reward semest',\n",
              " 'home alway chat',\n",
              " 'k k good studi well',\n",
              " 'yup noe leh',\n",
              " 'sound great home',\n",
              " 'final match head toward draw predict',\n",
              " 'tire slept well past night',\n",
              " 'easi ah sen got select mean good',\n",
              " 'take exam march',\n",
              " 'yeah think use gt atm regist sure anyway help let know sure readi',\n",
              " 'ok prob take ur time',\n",
              " 'os call ubandu run without instal hard disk use os copi import file system give repair shop',\n",
              " 'sorri call later',\n",
              " 'u say leh cours noth happen lar say v romant ju bit lor thk e nite sceneri nice leh',\n",
              " 'new mobil must go txt nokia collect today www tc biz optout gbp mtmsg',\n",
              " 'would realli appreci call need someon talk',\n",
              " 'u meet ur dream partner soon ur career flyng start find free txt horo follow ur star sign e g horo ari',\n",
              " 'hey compani elama po mudyadhu',\n",
              " 'life strict teacher bcoz teacher teach lesson amp conduct exam life first conduct exam amp teach lesson happi morn',\n",
              " 'dear good morn',\n",
              " 'get gandhipuram walk cross cut road right side lt gt street road turn first right',\n",
              " 'dear go rubber place',\n",
              " 'sorri batteri die yeah',\n",
              " 'ye tv alway avail work place',\n",
              " 'text meet someon sexi today u find date even flirt u join p repli name age eg sam msg recd thirtyeight penc',\n",
              " 'print oh lt gt come upstair',\n",
              " 'ill littl closer like bu stop street',\n",
              " 'wil reach',\n",
              " 'new theori argument win situat lose person dont argu ur friend kick amp say alway correct',\n",
              " 'u secret admir look make contact u find r reveal think ur special call',\n",
              " 'tomarrow final hear laptop case cant',\n",
              " 'pleassssssseeeee tel v avent done sportsx',\n",
              " 'okay shine meant sign sound better',\n",
              " 'although told u dat baig face watch realli like e watch u gave co fr u thanx everyth dat u done today touch',\n",
              " 'u rememb old commerci',\n",
              " 'late said websit dont slipper',\n",
              " 'ask call ok',\n",
              " 'kalli wont bat nd inning',\n",
              " 'didnt work oh ok goodnight fix readi time wake dearli miss good night sleep',\n",
              " 'congratul ur award cd voucher gift guarante free entri wkli draw txt music tnc www ldew com win ppmx age',\n",
              " 'ranjith cal drpd deeraj deepak min hold',\n",
              " 'wen ur lovabl bcum angri wid u dnt take serious coz angri childish n true way show deep affect care n luv kettoda manda nice day da',\n",
              " '',\n",
              " 'up day also ship compani take wk way usp take week get lag may bribe nipost get stuff',\n",
              " 'back lem know readi',\n",
              " 'necessarili expect done get back though headin',\n",
              " 'mmm yummi babe nice jolt suzi',\n",
              " 'lover need',\n",
              " 'tri contact repli offer video handset anytim network min unlimit text camcord repli call',\n",
              " 'park next mini come today think',\n",
              " 'yup',\n",
              " 'anyway go shop co si done yet dun disturb u liao',\n",
              " 'luton ring ur around h',\n",
              " 'hey realli horni want chat see nake text hot text charg pm unsubscrib text stop',\n",
              " 'dint come us',\n",
              " 'wana plan trip sometm',\n",
              " 'sure yet still tri get hold',\n",
              " 'ur rington servic chang free credit go club mobil com choos content stop txt club stop p wk club po box mk wt',\n",
              " 'evo download flash jealou',\n",
              " 'rington club get uk singl chart mobil week choos top qualiti rington messag free charg',\n",
              " 'come mu sort narcot situat',\n",
              " 'night end anoth day morn come special way may smile like sunni ray leav worri blue blue bay',\n",
              " 'hmv bonu special pound genuin hmv voucher answer easi question play send hmv info www percent real com',\n",
              " 'usf guess might well take car',\n",
              " 'object bf come',\n",
              " 'thanx',\n",
              " 'tell rob mack gf theater',\n",
              " 'awesom see bit',\n",
              " 'sent type food like',\n",
              " 'done hand celebr full swing yet',\n",
              " 'got call tool',\n",
              " 'wen u miss someon',\n",
              " 'ok ask money far',\n",
              " 'oki',\n",
              " 'yeah think usual guy still pass last night get ahold anybodi let know throw',\n",
              " 'k might come tonight class let earli',\n",
              " 'ok',\n",
              " 'hi babi im cruisin girl friend r u give call hour home that alright fone fone love jenni xxx',\n",
              " 'life mean lot love life love peopl life world call friend call world ge',\n",
              " 'dear shall mail tonit busi street shall updat tonit thing look ok varunnathu edukkukaye raksha ollu good one real sens',\n",
              " 'hey told name gautham ah',\n",
              " 'haf u found feel stupid da v cam work',\n",
              " 'oop got bit',\n",
              " 'much buzi',\n",
              " 'accident delet messag resend pleas',\n",
              " 'mobil custom may claim free camera phone upgrad pay go sim card loyalti call offer end thfeb c appli',\n",
              " 'unless situat go gurl would appropri',\n",
              " 'hurt teas make cri end life die plz keep one rose grave say stupid miss u nice day bslvyl',\n",
              " 'cant pick phone right pl send messag',\n",
              " 'need coffe run tomo believ time week alreadi',\n",
              " 'awesom rememb last time got somebodi high first time diesel v',\n",
              " 'shit realli shock scari cant imagin second def night u think somewher could crash night save taxi',\n",
              " 'oh way food fridg want go meal tonight',\n",
              " 'womdarful actor',\n",
              " 'sm ac blind date u rodd aberdeen unit kingdom check http img sm ac w icmb cktz r blind date send hide',\n",
              " 'yup remb think book',\n",
              " 'jo ask u wana meet',\n",
              " 'lol ye friendship hang thread caus u buy stuff',\n",
              " 'themob check newest select content game tone gossip babe sport keep mobil fit funki text wap',\n",
              " 'garag key bookshelf',\n",
              " 'today accept day u accept brother sister lover dear best clo lvblefrnd jstfrnd cutefrnd lifpartnr belovd swtheart bstfrnd rpli mean enemi',\n",
              " 'think ur smart win week weekli quiz text play cs winnersclub po box uz gbp week',\n",
              " 'say give call friend got money definit buy end week',\n",
              " 'hi way u day normal way real ur uniqu hope know u rest mylif hope u find wot lost',\n",
              " 'made day great day',\n",
              " 'k k advanc happi pongal',\n",
              " 'hmmm guess go kb n power yoga haha dunno tahan power yoga anot thk got lo oso forgot liao',\n",
              " 'realli dude friend afraid',\n",
              " 'decemb mobil mth entitl updat latest colour camera mobil free call mobil updat co free',\n",
              " 'coffe cake guess',\n",
              " 'merri christma babe love ya kiss',\n",
              " 'hey dont go watch x men lunch haha',\n",
              " 'cud u tell ppl im gona b bit l co buse hav gon past co full im still waitin pete x',\n",
              " 'would great guild could meet bristol road somewher get touch weekend plan take flight good week',\n",
              " 'problem',\n",
              " 'call messag miss call',\n",
              " 'hi da today class',\n",
              " 'say good sign well know track record read women',\n",
              " 'cool text park',\n",
              " 'read text sent meant joke read light',\n",
              " 'k k apo k good movi',\n",
              " 'mayb could get book tomo return immedi someth',\n",
              " 'call germani penc per minut call fix line via access number prepay direct access',\n",
              " 'chanc might evapor soon violat privaci steal phone number employ paperwork cool pleas contact report supervisor',\n",
              " 'valentin day special win quiz take partner trip lifetim send go p msg rcvd custcar',\n",
              " 'ta daaaaa home babe still',\n",
              " 'cool come havent wine dine',\n",
              " 'sleep surf',\n",
              " 'sorri call later',\n",
              " 'u call right call hand phone',\n",
              " 'ok great thanx lot',\n",
              " 'take post come must text happi read one wiv hello carolin end favourit bless',\n",
              " 'u hide stranger',\n",
              " 'interest like',\n",
              " 'sister clear two round birla soft yesterday',\n",
              " 'gudnit tc practic go',\n",
              " 'di yiju ju saw ur mail case huim havent sent u num di num',\n",
              " 'one small prestig problem',\n",
              " 'fanci shag interest sextextuk com txt xxuk suzi txt cost per msg tnc websit x',\n",
              " 'check realli miss see jeremiah great month',\n",
              " 'nah help never iphon',\n",
              " 'car hour half go apeshit',\n",
              " 'today sorri day ever angri ever misbehav hurt plz plz slap urself bcoz ur fault basic good',\n",
              " 'yo guy ever figur much need alcohol jay tri figur much safe spend weed',\n",
              " 'lt gt ish minut minut ago wtf',\n",
              " 'thank call forgot say happi onam sirji fine rememb met insur person meet qatar insha allah rakhesh ex tata aig join tissco tayseer',\n",
              " 'congratul ur award cd voucher gift guarante free entri wkli draw txt music tnc www ldew com win ppmx age',\n",
              " 'ur cash balanc current pound maxim ur cash send cash p msg cc hg suit land row w j hl',\n",
              " 'actor work work even sleep late sinc unemploy moment alway sleep late unemploy everi day saturday',\n",
              " 'hello got st andrew boy long way cold keep post',\n",
              " 'ha ha cool cool chikku chikku db',\n",
              " 'oh ok prob',\n",
              " 'check audrey statu right',\n",
              " 'busi tri finish new year look forward final meet',\n",
              " 'good afternoon sunshin dawn day refresh happi aliv breath air smile think love alway',\n",
              " 'well know z take care worri',\n",
              " 'updat xma offer latest motorola sonyericsson nokia free bluetooth doubl min txt orang call mobileupd call optout f q',\n",
              " 'discount code rp stop messag repli stop www regalportfolio co uk custom servic',\n",
              " 'wat uniform get',\n",
              " 'cool text readi',\n",
              " 'hello boytoy geeee miss alreadi woke wish bed cuddl love',\n",
              " 'spoil bed well',\n",
              " 'go bath msg next lt gt min',\n",
              " 'cant keep talk peopl sure pay agre price pl tell want realli buy much will pay',\n",
              " 'thank rington order refer charg gbp per week unsubscrib anytim call custom servic',\n",
              " 'say happen',\n",
              " 'could seen recognis face',\n",
              " 'well lot thing happen lindsay new year sigh bar ptbo blue heron someth go',\n",
              " 'keep payasam rinu bring',\n",
              " 'taught ranjith sir call sm like becau he verifi project prabu told today pa dont mistak',\n",
              " 'guess worri must know way bodi repair quit sure worri take slow first test guid ovul relax noth said reason worri keep followin',\n",
              " 'yeah sure give coupl minut track wallet',\n",
              " 'hey leav big deal take care',\n",
              " 'hey late ah meet',\n",
              " 'doubl min txt month free bluetooth orang avail soni nokia motorola phone call mobileupd call optout n dx',\n",
              " 'took mr owl lick',\n",
              " 'custom place call',\n",
              " 'mm time dont like fun',\n",
              " 'mth half price orang line rental latest camera phone free phone mth call mobilesdirect free updat stoptxt',\n",
              " 'yup lunch buffet u eat alreadi',\n",
              " 'huh late fr dinner',\n",
              " 'hey sat go intro pilat kickbox',\n",
              " 'morn ok',\n",
              " 'ye think offic lap room think that last day didnt shut',\n",
              " 'pick bout ish time go',\n",
              " 'perform award calcul everi two month current one month period',\n",
              " 'actual sleep still might u call back text gr rock si send u text wen wake',\n",
              " 'alway put busi put pictur ass facebook one open peopl ever met would think pictur room would hurt make feel violat',\n",
              " 'good even sir al salam wahleykkum share happi news grace god got offer tayseer tissco join hope fine inshah allah meet sometim rakhesh visitor india',\n",
              " 'hmmm k want chang field quickli da wan na get system administr network administr',\n",
              " 'free rington text first poli text get true tone help st free tone x pw e nd txt stop',\n",
              " 'dear chechi talk',\n",
              " 'hair cream ship',\n",
              " 'none happen til get though',\n",
              " 'yep great loxahatche xma tree burn lt gt start hour',\n",
              " 'haha get use drive usf man know lot stoner',\n",
              " 'well slightli disastr class pm fav darl hope day ok coffe wld good stay late tomorrow time place alway',\n",
              " 'hello good week fanci drink someth later',\n",
              " 'headin toward busetop',\n",
              " 'messag text miss sender name miss number miss sent date miss miss u lot that everyth miss sent via fullonsm com',\n",
              " 'come room point iron plan weekend',\n",
              " 'co want thing',\n",
              " 'oki go yan jiu skip ard oso go cine den go mrt one blah blah blah',\n",
              " 'bring home wendi',\n",
              " 'date servic cal l box sk ch',\n",
              " 'whatsup dont u want sleep',\n",
              " 'alright new goal',\n",
              " 'free entri weekli competit text word win c www txttowin co uk',\n",
              " 'alright head minut text meet',\n",
              " 'send logo ur lover name join heart txt love name name mobno eg love adam eve yahoo pobox w wq txtno ad p',\n",
              " 'ye last week take live call',\n",
              " 'someon contact date servic enter phone fanci find call landlin pobox n tf p',\n",
              " 'siva hostel aha',\n",
              " 'urgent mobil number award prize guarante call land line claim valid hr',\n",
              " 'send ur friend receiv someth ur voic speak express childish naughti sentiment rowdi ful attitud romant shi attract funni lt gt irrit lt gt lovabl repli',\n",
              " 'ok ok guess',\n",
              " 'aathi dear',\n",
              " 'pain urin thing els',\n",
              " 'esplanad mind give lift co got car today',\n",
              " 'wnt buy bmw car urgent vri urgent hv shortag lt gt lac sourc arng di amt lt gt lac that prob',\n",
              " 'home watch tv lor',\n",
              " 'usual take fifteen fuck minut respond ye question',\n",
              " 'congrat nokia video camera phone call call cost ppm ave call min vari mobil close post bcm ldn wc n xx',\n",
              " 'book ticket pongal',\n",
              " 'avail like right around hillsborough amp lt gt th',\n",
              " 'messag sent askin lt gt dollar shoul pay lt gt lt gt',\n",
              " 'ask g iouri told stori like ten time alreadi',\n",
              " 'long applebe fuck take',\n",
              " 'hi hope u get txt journey hasnt gd min late think',\n",
              " 'like love arrang',\n",
              " 'ye realli great bhaji told kalli best cricket sachin world tough get',\n",
              " 'suppos wake gt',\n",
              " 'oic saw tot din c found group liao',\n",
              " 'sorri call later',\n",
              " 'hey hey wereth monkeespeopl say monkeyaround howdi gorgeou',\n",
              " 'sorri batteri die come get gram place',\n",
              " 'well done blimey exercis yeah kinda rememb wot hmm',\n",
              " 'wont get concentr dear know mind everyth',\n",
              " 'lol made plan new year',\n",
              " 'min later k',\n",
              " 'hank lotsli',\n",
              " 'thank hope good day today',\n",
              " 'k k detail want transfer acc enough',\n",
              " 'ok tell stay yeah tough optimist thing improv month',\n",
              " 'loan purpos homeown tenant welcom previous refus still help call free text back help',\n",
              " 'si si think ill go make oreo truffl',\n",
              " 'look ami ure beauti intellig woman like u lot know u like like worri',\n",
              " 'hope result consist intellig kind start ask practicum link keep ear open best ttyl',\n",
              " 'call cost guess isnt bad miss ya need ya want ya love ya',\n",
              " 'go thru differ feel waver decis cope individu time heal everyth believ',\n",
              " 'u go phone gon na die stay',\n",
              " 'great never better day give even reason thank god',\n",
              " 'upgrdcentr orang custom may claim free camera phone upgrad loyalti call offer end th juli c appli opt avail',\n",
              " 'sorri call later ok bye',\n",
              " 'ok way railway',\n",
              " 'great princess love give receiv oral doggi style fave posit enjoy make love lt gt time per night',\n",
              " 'put stuff road keep get slipperi',\n",
              " 'go ride bike',\n",
              " 'yup need ju wait e rain stop',\n",
              " 'mani compani tell languag',\n",
              " 'okmail dear dave final notic collect tenerif holiday cash award call landlin tc sae box cw wx ppm',\n",
              " 'long sinc scream princess',\n",
              " 'noth meant money enter account bank remov flat rate someon transfer lt gt account lt gt dollar got remov bank differ charg also differ sure trust ja person send account detail co',\n",
              " 'want get laid tonight want real dog locat sent direct ur mob join uk largest dog network txting moan nyt ec p msg p',\n",
              " 'nice line said broken heart plz cum time infront wise trust u good',\n",
              " 'ok gon na head usf like fifteen minut',\n",
              " 'love aathi love u lot',\n",
              " 'tension ah machi problem',\n",
              " 'k pick anoth th done',\n",
              " 'guy get back g said think stay mcr',\n",
              " 'almost see u sec',\n",
              " 'yo carlo friend alreadi ask work weekend',\n",
              " 'watch tv lor',\n",
              " 'thank babi cant wait tast real thing',\n",
              " 'chang fb jaykwon thuglyf falconerf',\n",
              " 'win realli side long time',\n",
              " 'free messag activ free text messag repli messag word free term condit visit www com',\n",
              " 'dear reach railway happen',\n",
              " 'depend qualiti want type sent boy fade glori want ralph mayb',\n",
              " 'think fix send test messag',\n",
              " 'sorri man account dri would want could trade back half could buy shit credit card',\n",
              " 'congrat year special cinema pass call c suprman v matrix starwar etc free bx ip pm dont miss',\n",
              " 'sorri meet call later',\n",
              " 'class lt gt reunion',\n",
              " 'free call',\n",
              " 'got meh',\n",
              " 'nope think go monday sorri repli late',\n",
              " 'told accentur confirm true',\n",
              " 'kate jackson rec center ish right',\n",
              " 'dear reach room',\n",
              " 'fight world easi u either win lose bt fightng close u dificult u lose u lose u win u still lose',\n",
              " 'come',\n",
              " 'check nuerologist',\n",
              " 'lolnic went fish water',\n",
              " 'congratul week competit draw u prize claim call b cs stop sm ppm',\n",
              " 'wait e car dat bore wat co wait outsid got noth home stuff watch tv wat',\n",
              " 'mayb westshor hyde park villag place near hous',\n",
              " 'know anthoni bring money school fee pay rent stuff like that need help friend need',\n",
              " 'signific',\n",
              " 'opinion jada kusruthi lovabl silent spl charact matur stylish simpl pl repli',\n",
              " 'latest g still scroung ammo want give new ak tri',\n",
              " 'prabha soryda reali frm heart sori',\n",
              " 'lol ok forgiven',\n",
              " 'jst chang tat',\n",
              " 'guarante latest nokia phone gb ipod mp player prize txt word collect ibhltd ldnw h p mtmsgrcvd',\n",
              " 'competit',\n",
              " 'boltblu tone p repli poli mono eg poli cha cha slide yeah slow jamz toxic come stop tone txt',\n",
              " 'credit top http www bubbletext com renew pin tgxxrz',\n",
              " 'way transport less problemat sat night way u want ask n join bday feel free need know definit no book fri',\n",
              " 'usual person unconsci children adult may behav abnorm call',\n",
              " 'ebay might less elsewher',\n",
              " 'shall come get pickl',\n",
              " 'gon na go get taco',\n",
              " 'rude campu',\n",
              " 'urgent mobil award bonu caller prize nd attempt contact call box qu',\n",
              " 'hi b ard christma enjoy n merri x ma',\n",
              " 'today offer claim ur worth discount voucher text ye savamob member offer mobil cs sub unsub repli x',\n",
              " 'ye pretti ladi like singl',\n",
              " 'reciev tone within next hr term condit pleas see channel u teletext pg',\n",
              " 'jay say doubl faggot',\n",
              " 'privat account statement show un redeem point call identifi code expir',\n",
              " 'today sunday sunday holiday work',\n",
              " 'gudnit tc practic go',\n",
              " 'late',\n",
              " 'call hope l r malaria know miss guy miss bani big pl give love especi great day',\n",
              " 'good afternoon love goe day hope mayb got lead job think boytoy send passion kiss across sea',\n",
              " 'probabl gon na see later tonight lt',\n",
              " 'mayb fat finger press button know',\n",
              " 'ummmmmaah mani mani happi return day dear sweet heart happi birthday dear',\n",
              " 'tirupur da start offic call',\n",
              " 'www applausestor com monthlysubscript p msg max month csc web age stop txt stop',\n",
              " 'famou quot develop abil listen anyth uncondit without lose temper self confid mean marri',\n",
              " 'go colleg pa els ill come self pa',\n",
              " 'oclock mine bash flat plan',\n",
              " 'girl stay bed girl need recoveri time id rather pass fun coop bed',\n",
              " 'special',\n",
              " 'know need get hotel got invit apologis cali sweet come english bloke weddin',\n",
              " 'sorri took long omw',\n",
              " 'wait lt gt min',\n",
              " 'ok give minut think see btw alibi cut hair whole time',\n",
              " 'imagin final get sink bath put pace mayb even eat left also imagin feel cage cock surround bath water remind alway own enjoy cuck',\n",
              " 'hurri weed defici like three day',\n",
              " 'sure get acknowledg astoundingli tactless gener faggi demand blood oath fo',\n",
              " 'ok everi night take warm bath drink cup milk see work magic still need loos weight know',\n",
              " 'look fri pan case cheap book perhap silli fri pan like book',\n",
              " 'well uv caus mutat sunscreen like essenti theseday',\n",
              " 'lunch onlin',\n",
              " 'know friend alreadi told',\n",
              " 'hi princess thank pic pretti',\n",
              " 'aiyo u alway c ex one dunno abt mei repli first time u repli fast lucki workin huh got bao ur sugardad ah gee',\n",
              " 'hi msg offic',\n",
              " 'thanx e browni v nice',\n",
              " 'geeeee love much bare stand',\n",
              " 'gent tri contact last weekend draw show prize guarante call claim code k valid hr ppm',\n",
              " 'fuck babe miss alreadi know let send money toward net need want crave',\n",
              " 'ill call u mrw ninish address icki american freek wont stop callin bad jen k eh',\n",
              " 'oooh bed ridden ey think',\n",
              " 'anyway go gym whatev love smile hope ok good day babe miss much alreadi',\n",
              " 'love daddi make scream pleasur go slap ass dick',\n",
              " 'wot u wan na missi',\n",
              " 'yar lor wait mum finish sch lunch lor whole morn stay home clean room room quit clean hee',\n",
              " 'know lab goggl went',\n",
              " 'open door',\n",
              " 'wait call',\n",
              " 'nope wait sch daddi',\n",
              " 'cash prize claim call',\n",
              " 'tire argu week week want',\n",
              " 'wait sch finish ard',\n",
              " 'mobil number claim call us back ring claim hot line',\n",
              " 'arngd marriag u r walkin unfortuntli snake bite u bt love marriag danc frnt snake amp sayin bite bite',\n",
              " 'huh earli dinner outsid izzit',\n",
              " 'ok anyway need chang said',\n",
              " 'tri contact repli offer min textand new video phone call repli free deliveri tomorrow',\n",
              " 'ex wife abl kid want kid one day',\n",
              " 'scotland hope show jjc tendenc take care live dream',\n",
              " 'tell u headach want use hour sick time',\n",
              " 'dun thk quit yet hmmm go jazz yogasana oso go meet em lesson den',\n",
              " 'pete pleas ring meiv hardli gotani credit',\n",
              " 'ya srsli better yi tho',\n",
              " 'meet call later',\n",
              " 'ur chanc win wkli shop spree txt shop c www txt shop com custcar x p wk',\n",
              " 'special select receiv pound award call line close cost ppm cs appli ag promo',\n",
              " 'privat account statement show un redeem point call identifi code expir',\n",
              " 'still grand prix',\n",
              " 'met stranger choos friend long world stand friendship never end let friend forev gud nitz',\n",
              " 'great',\n",
              " 'gud mrng dear nice day',\n",
              " 'import custom servic announc call freephon',\n",
              " 'exhaust train morn much wine pie sleep well',\n",
              " 'go buy mum present ar',\n",
              " 'mind blastin tsunami occur rajnik stop swim indian ocean',\n",
              " 'u send home first ok lor readi yet',\n",
              " 'speak cash yet',\n",
              " 'happi come noon',\n",
              " 'meet lunch la',\n",
              " 'take care n get well soon',\n",
              " 'xclusiv clubsaisai morow soire special zouk nichol pari free rose ladi info',\n",
              " 'meant say cant wait see u get bore bridgwat banter',\n",
              " 'neva mind ok',\n",
              " 'fine imma get drink somethin want come find',\n",
              " 'day kick euro u kept date latest news result daili remov send get txt stop',\n",
              " 'valentin game send di msg ur friend answer r someon realli love u que colour suit best rpli',\n",
              " 'mani depend',\n",
              " 'thanx today cer nice catch ave find time often oh well take care c u soon c',\n",
              " 'call said choos futur',\n",
              " 'happi valentin day know earli hundr handsom beauti wish thought finish aunti uncl st',\n",
              " 'like v shock leh co tell shuhui like tell leona also like dat almost know liao got ask abt ur reaction lor',\n",
              " 'famili happi',\n",
              " 'come n pick come immedi aft ur lesson',\n",
              " 'let snow let snow kind weather bring ppl togeth friendship grow',\n",
              " 'dear got lt gt dollar hi hi',\n",
              " 'good word word may leav u dismay mani time',\n",
              " 'make sure alex know birthday fifteen minut far concern',\n",
              " 'sorri got thing may pub later',\n",
              " 'nah straight bring bud drink someth actual littl use straight cash',\n",
              " 'haha good hear offici paid market th',\n",
              " 'mani lick take get center tootsi pop',\n",
              " 'yup thk r e teacher said make face look longer darren ask cut short',\n",
              " 'new textbuddi chat horni guy ur area p free receiv search postcod gaytextbuddi com txt one name',\n",
              " 'today vodafon number end select receiv award number match call receiv award',\n",
              " 'pleas dont say like hi hi hi',\n",
              " 'thank u',\n",
              " 'oh forward messag thought send',\n",
              " 'got seventeen pound seven hundr ml hope ok',\n",
              " 'dear voucher holder claim week offer pc go http www e tlp co uk expressoff ts cs appli stop text txt stop',\n",
              " 'n funni',\n",
              " 'sweetheart hope kind day one load reason smile biola',\n",
              " 'login dat time dad fetch home',\n",
              " 'shower babi',\n",
              " 'askd u question hour answer',\n",
              " 'well imma definit need restock thanksgiv let know',\n",
              " 'said kiss kiss sound effect gorgeou man kind person need smile brighten day',\n",
              " 'probabl gon na swing wee bit',\n",
              " 'ya nice readi thursday',\n",
              " 'allo brave buse taken train triumph mean b ham jolli good rest week',\n",
              " 'watch cartoon listen music amp eve go templ amp church u',\n",
              " 'mind ask happen dont say uncomfort',\n",
              " 'privat account statement show un redeem point call identifi code expir',\n",
              " 'prob send email',\n",
              " 'cash prize claim call c rstm sw ss ppm',\n",
              " 'that cool sometim slow gentl sonetim rough hard',\n",
              " 'gon na say sorri would normal start panic time sorri see tuesday',\n",
              " 'wait know wesley town bet hella drug',\n",
              " 'fine miss much',\n",
              " 'u got person stori',\n",
              " 'tell drug dealer get impati',\n",
              " 'sun cant come earth send luv ray cloud cant come river send luv rain cant come meet u send care msg u gud evng',\n",
              " 'place man',\n",
              " 'doesnt make sens take unless free need know wikipedia com',\n",
              " 'premium phone servic call',\n",
              " 'sea lay rock rock envelop envelop paper paper word',\n",
              " 'mum repent',\n",
              " 'sorri go home first daddi come fetch later',\n",
              " 'leav de start prepar next',\n",
              " 'ye babi studi posit kama sutra',\n",
              " 'en chikku nang bakra msg kalstiya tea coffe',\n",
              " 'carlo minut still need buy',\n",
              " 'pay lt decim gt lakh',\n",
              " 'good even ttyl',\n",
              " 'u receiv msg',\n",
              " 'ho ho big belli laugh see ya tomo',\n",
              " 'sm ac sun post hello seem cool',\n",
              " 'get ur st rington free repli msg tone gr top tone phone everi week per wk opt send stop',\n",
              " 'ditto worri say anyth anymor like said last night whatev want peac',\n",
              " 'got lt gt way could pick',\n",
              " 'dont knw pa drink milk',\n",
              " 'mayb say hi find got card great escap wetherspoon',\n",
              " 'piggi r u awak bet u still sleep go lunch',\n",
              " 'caus freaki lol',\n",
              " 'miss call caus yell scrappi miss u wait u come home lone today',\n",
              " 'hex place talk explain',\n",
              " 'log wat sdryb',\n",
              " 'xy go e lunch',\n",
              " 'hi sue year old work lapdanc love sex text live bedroom text sue textoper g da ppmsg',\n",
              " 'want ask wait finish lect co lect finish hour anyway',\n",
              " 'finish work yet',\n",
              " 'everi king cri babi everi great build map imprtant u r today u wil reach tomorw gud ni',\n",
              " 'dear cherthala case u r come cochin pl call bfore u start shall also reach accordingli tell day u r come tmorow engag an holiday',\n",
              " 'thank love torch bold',\n",
              " 'forward pleas call immedi urgent messag wait',\n",
              " 'farm open',\n",
              " 'sorri troubl u buy dad big small sat n sun thanx',\n",
              " 'sister law hope great month say hey abiola',\n",
              " 'purchas stuff today mail po box number',\n",
              " 'ah poop look like ill prob send laptop get fix cuz gpu problem',\n",
              " 'good good job like entrepreneur',\n",
              " 'aight close still around alex place',\n",
              " 'meet corpor st outsid gap see mind work',\n",
              " 'mum ask buy food home',\n",
              " 'k u also dont msg repli msg',\n",
              " 'much r will pay',\n",
              " 'sorri call later',\n",
              " 'import prevent dehydr give enough fluid',\n",
              " 'that bit weird even suppos happen good idea sure pub',\n",
              " 'true dear sat pray even felt sm time',\n",
              " 'think get away trek long famili town sorri',\n",
              " 'wan na gym harri',\n",
              " 'quit late lar ard anyway wun b drivin',\n",
              " 'review keep fantast nokia n gage game deck club nokia go www cnupdat com newslett unsubscrib alert repli word',\n",
              " 'mth half price orang line rental latest camera phone free phone mth call mobilesdirect free updat stoptxt cs',\n",
              " 'height confid aeronaut professor wer calld amp wer askd sit aeroplan aftr sat wer told dat plane ws made student dey hurri plane bt didnt move said made student',\n",
              " 'seem like weird time night g want come smoke day shitstorm attribut alway come make everyon smoke',\n",
              " 'pm cost p',\n",
              " 'save stress person dorm account send account detail money sent',\n",
              " 'also know lunch menu da know',\n",
              " 'stuff sell tell',\n",
              " 'urgent nd attempt contact u u call b csbcm wc n xx callcost ppm mobilesvari max',\n",
              " 'book lesson msg call work sth go get spec membership px',\n",
              " 'guarante cash prize claim yr prize call custom servic repres pm',\n",
              " 'macha dont feel upset assum mindset believ one even wonder plan us let life begin call anytim',\n",
              " 'oh send address',\n",
              " 'fine anytim best',\n",
              " 'wondar full flim',\n",
              " 'ya even cooki jelli',\n",
              " 'world run still mayb feel admit mad correct let call life keep run world may u r also run let run',\n",
              " 'got look scrumptiou daddi want eat night long',\n",
              " 'co lar ba dao ok pm lor u never ask go ah said u would ask fri said u ask today',\n",
              " 'alright omw got ta chang order half th',\n",
              " 'exactli anyway far jide studi visit',\n",
              " 'dunno u ask',\n",
              " 'email alertfrom jeri stewarts kbsubject low cost prescripiton drvgsto listen email call',\n",
              " 'spring come earli yay',\n",
              " 'lol feel bad use money take steak dinner',\n",
              " 'even u dont get troubl convinc tel twice tel neglect msg dont c read dont repli',\n",
              " 'leav qatar tonit search opportun went fast pl add ur prayer dear rakhesh',\n",
              " 'one talk',\n",
              " 'thank look realli appreci',\n",
              " 'hi custom loyalti offer new nokia mobil txtauction txt word start get ctxt tc p mtmsg',\n",
              " 'wish',\n",
              " 'haha mayb u rite u know well da feel like someon gd lor u faster go find one gal group attach liao',\n",
              " 'ye glad made',\n",
              " 'well littl time thing good time ahead',\n",
              " 'got room soon put clock back til shout everyon get realis wahay anoth hour bed',\n",
              " 'ok may free gym',\n",
              " 'men like shorter ladi gaze eye',\n",
              " 'dunno ju say go lido time',\n",
              " 'promis take good care princess run pleas send pic get chanc ttyl',\n",
              " 'u subscrib best mobil content servic uk per day send stop helplin',\n",
              " 'reason spoken year anyway great week best exam',\n",
              " 'monday next week give full gist',\n",
              " 'realiz year thousand old ladi run around tattoo',\n",
              " 'import custom servic announc premier',\n",
              " 'dont gim lip caveboy',\n",
              " 'get librari',\n",
              " 'reali sorri recognis number confus r u pleas',\n",
              " 'didnt holla',\n",
              " 'cant think anyon spare room top head',\n",
              " 'faith make thing possibl hope make thing work love make thing beauti may three christma merri christma',\n",
              " 'u made appoint',\n",
              " 'call carlo phone vibrat act might hear text',\n",
              " 'romant pari night flight book next year call ts cs appli',\n",
              " 'grandma oh dear u still ill felt shit morn think hungov anoth night leav sat',\n",
              " 'urgent ur guarante award still unclaim call closingd claimcod pmmorefrommobil bremov mobypobox ls yf',\n",
              " 'noth ju tot u would ask co u ba gua went mt faber yest yest ju went alreadi mah today go ju call lor',\n",
              " 'wish famili merri x ma happi new year advanc',\n",
              " 'ur award citi break could win summer shop spree everi wk txt store skilgm tsc winawk age perwksub',\n",
              " 'nt goin got somethin unless meetin dinner lor haha wonder go ti time',\n",
              " 'sorri call later',\n",
              " 'cant pick phone right pl send messag',\n",
              " 'lol know dramat school alreadi close tomorrow appar drive inch snow suppos get',\n",
              " 'get anywher damn job hunt',\n",
              " 'lol u drunkard hair moment yeah still tonight wat plan',\n",
              " 'idc get weasel way shit twice row',\n",
              " 'wil lt gt minut got space',\n",
              " 'sleep surf',\n",
              " 'thank pick trash',\n",
              " 'go tell friend sure want live smoke much spend hour beg come smoke',\n",
              " 'hi kate love see tonight ill phone tomorrow got sing guy gave card xxx',\n",
              " 'happi new year dear brother realli miss got number decid send text wish happi abiola',\n",
              " 'mean get door',\n",
              " 'opinion jada kusruthi lovabl silent spl charact matur stylish simpl pl repli',\n",
              " 'hmmm thought said hour slave late punish',\n",
              " 'beerag',\n",
              " 'import custom servic announc premier call freephon',\n",
              " 'dont think turn like randomlli within min open',\n",
              " 'suppos make still town though',\n",
              " 'time fix spell sometim get complet diff word go figur',\n",
              " 'ever thought live good life perfect partner txt back name age join mobil commun p sm',\n",
              " 'free top polyphon tone call nation rate get toppoli tune sent everi week text subpoli per pole unsub',\n",
              " 'gud mrng dear hav nice day',\n",
              " 'hope enjoy game yesterday sorri touch pl know fondli bein thot great week abiola',\n",
              " 'e best ur drive tmr',\n",
              " 'u dogbreath sound like jan c al',\n",
              " 'omg want scream weigh lost weight woohoo',\n",
              " 'gener one uncount noun u dictionari piec research',\n",
              " 'realli get hang around',\n",
              " 'orang custom may claim free camera phone upgrad loyalti call offer end thmarch c appli opt availa',\n",
              " 'petey boy wherear friendsar thekingshead come canlov nic',\n",
              " 'ok msg u b leav hous',\n",
              " 'gim lt gt minut ago',\n",
              " 'last chanc claim ur worth discount voucher today text shop savamob offer mobil cs savamob pobox uz sub',\n",
              " 'appt lt time gt fault u listen told u twice',\n",
              " 'free st week nokia tone ur mobil everi week txt nokia get txting tell ur mate www getz co uk pobox w wq norm p tone',\n",
              " 'guarante award even cashto claim ur award call free stop getstop php rg jx',\n",
              " 'k',\n",
              " 'dled imp',\n",
              " 'sure make sure know smokin yet',\n",
              " 'boooo alway work quit',\n",
              " 'take half day leav bec well',\n",
              " 'ugh wan na get bed warm',\n",
              " 'nervou lt gt',\n",
              " 'ring come guy costum gift futur yowif hint hint',\n",
              " 'congratul ur award either cd gift voucher free entri weekli draw txt music tnc www ldew com win ppmx age',\n",
              " 'borrow ur bag ok',\n",
              " 'u outbid simonwatson shinco dvd plyr bid visit sm ac smsreward end bid notif repli end',\n",
              " 'boytoy miss happen',\n",
              " 'lot use one babe model help youi bring match',\n",
              " 'also bring galileo dobbi',\n",
              " 'respond',\n",
              " 'boo babe u enjoyin yourjob u seem b gettin well hunni hope ure ok take care llspeak u soonlot lovem xxxx',\n",
              " 'good afternoon starshin boytoy crave yet ach fuck sip cappuccino miss babe teas kiss',\n",
              " 'road cant txt',\n",
              " 'smsservic yourinclus text credit pl goto www comuk net login qxj unsubscrib stop extra charg help comuk cm ae',\n",
              " 'p alfi moon children need song ur mob tell ur txt tone chariti nokia poli chariti poli zed profit chariti',\n",
              " 'good even ttyl',\n",
              " 'hmm bit piec lol sigh',\n",
              " 'hahaha use brain dear',\n",
              " 'hey got mail',\n",
              " 'sorri light turn green meant anoth friend want lt gt worth may around',\n",
              " 'thank yesterday sir wonder hope enjoy burial mojibiola',\n",
              " 'u secret admir reveal think u r special call opt repli reveal stop per msg recd cust care',\n",
              " 'hi mate rv u hav nice hol messag say hello coz sent u age start drive stay road rvx',\n",
              " 'dear voucher holder claim week offer pc pleas go http www e tlp co uk expressoff ts cs appli stop text txt stop',\n",
              " 'thank much skype wit kz sura didnt get pleasur compani hope good given ultimatum oh countin aburo enjoy messag sent day ago',\n",
              " 'sure result offer',\n",
              " 'good morn dear great amp success day',\n",
              " 'want anytim network min text new video phone five pound per week call repli deliveri tomorrow',\n",
              " 'sir late pay rent past month pay lt gt charg felt would inconsider nag someth give great cost didnt speak howev recess wont abl pay charg month henc askin well ahead month end pleas help thank',\n",
              " 'tri contact offer new video phone anytim network min half price rental camcord call repli deliveri wed',\n",
              " 'last chanc claim ur worth discount voucher text ye savamob member offer mobil cs sub remov txt x stop',\n",
              " 'luv u soo much u understand special u r ring u morrow luv u xxx',\n",
              " 'pl send comprehens mail pay much',\n",
              " 'prashanthettan mother pass away last night pray famili',\n",
              " 'urgent call landlin complimentari ibiza holiday cash await collect sae cs po box sk wp ppm',\n",
              " 'k k go',\n",
              " 'meanwhil shit suit xavier decid give us lt gt second warn samantha come play jay guitar impress shit also think doug realiz live anymor',\n",
              " 'stomach thru much trauma swear eat better lose weight',\n",
              " 'offic what matter msg call break',\n",
              " 'yeah bare enough room two us x mani fuck shoe sorri man see later',\n",
              " 'today offer claim ur worth discount voucher text ye savamob member offer mobil cs sub unsub repli x',\n",
              " 'u reach orchard alreadi u wan go buy ticket first',\n",
              " 'real babi want bring inner tigress',\n",
              " 'da run activ full version da',\n",
              " 'ah poor babi hope urfeel bettersn luv probthat overdos work hey go care spk u sn lot lovejen xxx',\n",
              " 'stop stori told return say order',\n",
              " 'talk sexi make new friend fall love world discreet text date servic text vip see could meet',\n",
              " 'go take babe',\n",
              " 'hai ana tomarrow come morn lt decim gt ill sathi go rto offic repli came home',\n",
              " 'spoon okay',\n",
              " 'say somebodi name tampa',\n",
              " 'work go min',\n",
              " 'brother geniu',\n",
              " 'sorri guess whenev get hold connect mayb hour two text',\n",
              " 'u find time bu coz need sort stuff',\n",
              " 'dude ive see lotta corvett late',\n",
              " 'congratul ur award either yr suppli cd virgin record mysteri gift guarante call ts cs www smsco net pm approx min',\n",
              " 'consid wall bunker shit import never play peac guess place high enough matter',\n",
              " 'privat account statement xxxxxx show un redeem point call identifi code expir',\n",
              " 'hello need posh bird chap user trial prod champney put need address dob asap ta r',\n",
              " 'u want xma free text messag new video phone half price line rental call free find',\n",
              " 'well offici philosoph hole u wan na call home readi save',\n",
              " 'go good problem still need littl experi understand american custom voic',\n",
              " 'text drop x',\n",
              " 'ugh long day exhaust want cuddl take nap',\n",
              " 'talk atleast day otherwis miss best friend world shakespear shesil lt gt',\n",
              " 'shop till u drop either k k cash travel voucher call ntt po box cr bt fixedlin cost ppm mobil vari',\n",
              " 'castor need see someth',\n",
              " 'sunshin quiz wkli q win top soni dvd player u know countri liverpool play mid week txt ansr sp tyron',\n",
              " 'u secret admir look make contact u find r reveal think ur special call',\n",
              " 'u secret admir look make contact u find r reveal think ur special call stopsm',\n",
              " 'remind download content alreadi paid goto http doit mymobi tv collect content',\n",
              " 'see knew give break time woul lead alway want miss curfew gon na gibe til one midnight movi gon na get til need come home need getsleep anyth need b studdi ear train',\n",
              " 'love give massag use lot babi oil fave posit',\n",
              " 'dude go sup',\n",
              " 'yoyyooo u know chang permiss drive mac usb flash drive',\n",
              " 'gibb unsold mike hussey',\n",
              " 'like talk pa abl dont know',\n",
              " 'dun cut short leh u dun like ah fail quit sad',\n",
              " 'unbeliev faglord',\n",
              " 'wife knew time murder exactli',\n",
              " 'ask princess',\n",
              " 'great princess think',\n",
              " 'nutter cutter ctter cttergg cttargg ctargg ctagg ie',\n",
              " 'ok noe u busi realli bore msg u oso dunno wat colour choos one',\n",
              " 'g class earli tomorrow thu tri smoke lt gt',\n",
              " 'superb thought grate u dont everyth u want mean u still opportun happier tomorrow u today',\n",
              " 'hope good week check',\n",
              " 'use hope agent drop sinc book thing year whole boston nyc experi',\n",
              " 'thursday night yeah sure thing work',\n",
              " 'free rington wait collect simpli text password mix verifi get usher britney fml',\n",
              " 'probabl money worri thing come due sever outstand invoic work two three month ago',\n",
              " 'possibl teach',\n",
              " 'wonder phone batteri went dead tell love babe',\n",
              " 'love smell bu tobacco',\n",
              " 'get worri derek taylor alreadi assum worst',\n",
              " 'hey charl sorri late repli',\n",
              " 'lastest stereophon marley dizze racal libertin stroke win nookii game flirt click themob wap bookmark text wap',\n",
              " 'give plu said grinul greet whenev speak',\n",
              " 'white fudg oreo store',\n",
              " 'januari male sale hot gay chat cheaper call nation rate p min cheap p min peak stop text call p min',\n",
              " 'love come took long leav zaher got word ym happi see sad left miss',\n",
              " 'sorri hurt',\n",
              " 'feel nauseou piss eat sweet week caus today plan pig diet week hungri',\n",
              " 'ok lor earli still project meet',\n",
              " 'call da wait call',\n",
              " 'could ask carlo could get anybodi els chip',\n",
              " 'actual send remind today wonder weekend',\n",
              " 'peopl see msg think iam addict msging wrong bcoz know iam addict sweet friend bslvyl',\n",
              " 'hey gave photo regist drive ah tmr wan na meet yck',\n",
              " 'dont talk ever ok word',\n",
              " 'u wana see',\n",
              " 'way school pl send ashley number',\n",
              " 'shall fine avalarr hollalat',\n",
              " 'went attend anoth two round today still reach home',\n",
              " 'actual delet old websit blog magicalsong blogspot com',\n",
              " 'k wait chikku il send aftr lt gt min',\n",
              " 'diet ate mani slice pizza yesterday ugh alway diet',\n",
              " 'k give kvb acc detail',\n",
              " 'oh come ah',\n",
              " 'money r lucki winner claim prize text money million give away ppt x normal text rate box w jy',\n",
              " 'realli sorri b abl friday hope u find altern hope yr term go ok',\n",
              " 'congratul ore mo owo wa enjoy wish mani happi moment fro wherev go',\n",
              " 'samu shoulder yet',\n",
              " 'time think need know near campu',\n",
              " 'dear matthew pleas call landlin complimentari lux tenerif holiday cash await collect ppm sae cs box sk xh',\n",
              " 'dun wear jean lor',\n",
              " 'sinc side fever vomitin',\n",
              " 'k k colleg',\n",
              " 'urgent call landlin complimentari tenerif holiday cash await collect sae cs box hp yf ppm',\n",
              " 'better made friday stuf like pig yesterday feel bleh least writh pain kind bleh',\n",
              " 'sell ton coin sell coin someon thru paypal voila money back life pocket',\n",
              " 'theyr lot place hospit medic place safe',\n",
              " 'get touch folk wait compani txt back name age opt enjoy commun p sm',\n",
              " 'also sorta blown coupl time recent id rather text blue look weed',\n",
              " 'sent score sopha secondari applic school think think appli research cost also contact joke ogunrind school one less expens one',\n",
              " 'cant wait see photo use',\n",
              " 'ur cash balanc current pound maxim ur cash send go p msg cc po box tcr w',\n",
              " 'hey book kb sat alreadi lesson go ah keep sat night free need meet confirm lodg',\n",
              " 'chk ur belovd ms dict',\n",
              " 'time want come',\n",
              " 'awesom lem know whenev around',\n",
              " 'shb b ok lor thanx',\n",
              " 'beauti truth graviti read care heart feel light someon feel heavi someon leav good night',\n",
              " 'also rememb get dobbi bowl car',\n",
              " 'filthi stori girl wait',\n",
              " 'sorri c ur msg yar lor poor thing one night tmr u brand new room sleep',\n",
              " 'love decis feel could decid love life would much simpler less magic',\n",
              " 'welp appar retir',\n",
              " 'sort code acc bank natwest repli confirm sent right person',\n",
              " '',\n",
              " 'u sure u take sick time',\n",
              " 'urgent tri contact u today draw show prize guarante call land line claim valid hr',\n",
              " 'watch cartoon listen music amp eve go templ amp church u',\n",
              " 'yo chad gymnast class wan na take site say christian class full',\n",
              " 'much buzi',\n",
              " 'better still catch let ask sell lt gt',\n",
              " 'sure night menu know noon menu',\n",
              " 'u want come back beauti necklac token heart that give wife like see one give dont call wait till come',\n",
              " 'will go aptitud class',\n",
              " 'wont b tri sort hous ok',\n",
              " 'yar lor wan go c hors race today mah eat earlier lor ate chicken rice u',\n",
              " 'haha awesom omw back',\n",
              " 'yup thk e shop close lor',\n",
              " 'account number',\n",
              " 'eh u send wrongli lar',\n",
              " 'hey ad crap nite borin without ya boggi u bore biatch thanx u wait til nxt time il ave ya',\n",
              " 'ok shall talk',\n",
              " 'dont hesit know second time weak like keep notebook eat day anyth chang day sure noth',\n",
              " 'hey pay salari de lt gt',\n",
              " 'anoth month need chocol weed alcohol',\n",
              " 'start search get job day great potenti talent',\n",
              " 'reckon need town eightish walk carpark',\n",
              " 'congrat mobil g videophon r call videochat wid mate play java game dload polyph music nolin rentl',\n",
              " 'look fuckin time fuck think',\n",
              " 'yo guess drop',\n",
              " 'carlo say mu lt gt minut',\n",
              " 'offic call lt gt min',\n",
              " 'geeee miss alreadi know think fuck wait till next year togeth love kiss',\n",
              " 'yun ah ubi one say wan call tomorrow call look iren ere got bu ubi cre ubi tech park ph st wkg day n',\n",
              " 'ugh got ta drive back sd la butt sore',\n",
              " 'th juli',\n",
              " 'hi im relax time ever get everi day parti good night get home tomorrow ish',\n",
              " 'wan come come lor din c stripe skirt',\n",
              " 'xma stori peac xma msg love xma miracl jesu hav bless month ahead amp wish u merri xma',\n",
              " 'number',\n",
              " 'chang e one next escal',\n",
              " 'yetund class run water make ok pl',\n",
              " 'lot happen feel quiet beth aunt charli work lot helen mo',\n",
              " 'wait bu stop aft ur lect lar dun c go get car come back n pick',\n",
              " 'aight thank comin',\n",
              " ...]"
            ]
          },
          "metadata": {},
          "execution_count": 327
        }
      ]
    },
    {
      "cell_type": "code",
      "metadata": {
        "id": "M0d-45B5enkl"
      },
      "source": [
        "from sklearn.feature_extraction.text import CountVectorizer"
      ],
      "execution_count": 328,
      "outputs": []
    },
    {
      "cell_type": "code",
      "metadata": {
        "id": "oUcbm189fug8"
      },
      "source": [
        "cv=CountVectorizer(max_features=5000)"
      ],
      "execution_count": 329,
      "outputs": []
    },
    {
      "cell_type": "code",
      "metadata": {
        "id": "O3JFXukDgJbz"
      },
      "source": [
        "features=cv.fit_transform(sentences)"
      ],
      "execution_count": 330,
      "outputs": []
    },
    {
      "cell_type": "code",
      "metadata": {
        "id": "9dpdLHR7gPdl"
      },
      "source": [
        "features=features.toarray()"
      ],
      "execution_count": 331,
      "outputs": []
    },
    {
      "cell_type": "code",
      "metadata": {
        "id": "WkXQj-EcgQsr",
        "outputId": "cb512b09-b269-41cf-b6d5-677f602f6b9a",
        "colab": {
          "base_uri": "https://localhost:8080/"
        }
      },
      "source": [
        "features"
      ],
      "execution_count": 332,
      "outputs": [
        {
          "output_type": "execute_result",
          "data": {
            "text/plain": [
              "array([[0, 0, 0, ..., 0, 0, 0],\n",
              "       [0, 0, 0, ..., 0, 0, 0],\n",
              "       [0, 0, 0, ..., 0, 0, 0],\n",
              "       ...,\n",
              "       [0, 0, 0, ..., 0, 0, 0],\n",
              "       [0, 0, 0, ..., 0, 0, 0],\n",
              "       [0, 0, 0, ..., 0, 0, 0]])"
            ]
          },
          "metadata": {},
          "execution_count": 332
        }
      ]
    },
    {
      "cell_type": "code",
      "metadata": {
        "id": "cM_B2y-pgqI5",
        "outputId": "50e5f377-6108-4aee-f325-2c6f558dfd8b",
        "colab": {
          "base_uri": "https://localhost:8080/"
        }
      },
      "source": [
        "len(cv.get_feature_names_out())"
      ],
      "execution_count": 333,
      "outputs": [
        {
          "output_type": "execute_result",
          "data": {
            "text/plain": [
              "5000"
            ]
          },
          "metadata": {},
          "execution_count": 333
        }
      ]
    },
    {
      "cell_type": "code",
      "metadata": {
        "id": "77NDZTdPiSNq"
      },
      "source": [
        "feature_train,feature_test,label_train,label_test=train_test_split(features,label,test_size=0.2,random_state=7)"
      ],
      "execution_count": 334,
      "outputs": []
    },
    {
      "cell_type": "markdown",
      "metadata": {
        "id": "k_oA--CriHBg"
      },
      "source": [
        "#Naive Bayes"
      ]
    },
    {
      "cell_type": "code",
      "metadata": {
        "id": "RWALOhjjgveO",
        "outputId": "b356703d-5e56-4392-c36a-0910b74a708a",
        "colab": {
          "base_uri": "https://localhost:8080/",
          "height": 75
        }
      },
      "source": [
        "model=MultinomialNB()\n",
        "model.fit(feature_train,label_train)"
      ],
      "execution_count": 335,
      "outputs": [
        {
          "output_type": "execute_result",
          "data": {
            "text/plain": [
              "MultinomialNB()"
            ],
            "text/html": [
              "<style>#sk-container-id-22 {color: black;background-color: white;}#sk-container-id-22 pre{padding: 0;}#sk-container-id-22 div.sk-toggleable {background-color: white;}#sk-container-id-22 label.sk-toggleable__label {cursor: pointer;display: block;width: 100%;margin-bottom: 0;padding: 0.3em;box-sizing: border-box;text-align: center;}#sk-container-id-22 label.sk-toggleable__label-arrow:before {content: \"▸\";float: left;margin-right: 0.25em;color: #696969;}#sk-container-id-22 label.sk-toggleable__label-arrow:hover:before {color: black;}#sk-container-id-22 div.sk-estimator:hover label.sk-toggleable__label-arrow:before {color: black;}#sk-container-id-22 div.sk-toggleable__content {max-height: 0;max-width: 0;overflow: hidden;text-align: left;background-color: #f0f8ff;}#sk-container-id-22 div.sk-toggleable__content pre {margin: 0.2em;color: black;border-radius: 0.25em;background-color: #f0f8ff;}#sk-container-id-22 input.sk-toggleable__control:checked~div.sk-toggleable__content {max-height: 200px;max-width: 100%;overflow: auto;}#sk-container-id-22 input.sk-toggleable__control:checked~label.sk-toggleable__label-arrow:before {content: \"▾\";}#sk-container-id-22 div.sk-estimator input.sk-toggleable__control:checked~label.sk-toggleable__label {background-color: #d4ebff;}#sk-container-id-22 div.sk-label input.sk-toggleable__control:checked~label.sk-toggleable__label {background-color: #d4ebff;}#sk-container-id-22 input.sk-hidden--visually {border: 0;clip: rect(1px 1px 1px 1px);clip: rect(1px, 1px, 1px, 1px);height: 1px;margin: -1px;overflow: hidden;padding: 0;position: absolute;width: 1px;}#sk-container-id-22 div.sk-estimator {font-family: monospace;background-color: #f0f8ff;border: 1px dotted black;border-radius: 0.25em;box-sizing: border-box;margin-bottom: 0.5em;}#sk-container-id-22 div.sk-estimator:hover {background-color: #d4ebff;}#sk-container-id-22 div.sk-parallel-item::after {content: \"\";width: 100%;border-bottom: 1px solid gray;flex-grow: 1;}#sk-container-id-22 div.sk-label:hover label.sk-toggleable__label {background-color: #d4ebff;}#sk-container-id-22 div.sk-serial::before {content: \"\";position: absolute;border-left: 1px solid gray;box-sizing: border-box;top: 0;bottom: 0;left: 50%;z-index: 0;}#sk-container-id-22 div.sk-serial {display: flex;flex-direction: column;align-items: center;background-color: white;padding-right: 0.2em;padding-left: 0.2em;position: relative;}#sk-container-id-22 div.sk-item {position: relative;z-index: 1;}#sk-container-id-22 div.sk-parallel {display: flex;align-items: stretch;justify-content: center;background-color: white;position: relative;}#sk-container-id-22 div.sk-item::before, #sk-container-id-22 div.sk-parallel-item::before {content: \"\";position: absolute;border-left: 1px solid gray;box-sizing: border-box;top: 0;bottom: 0;left: 50%;z-index: -1;}#sk-container-id-22 div.sk-parallel-item {display: flex;flex-direction: column;z-index: 1;position: relative;background-color: white;}#sk-container-id-22 div.sk-parallel-item:first-child::after {align-self: flex-end;width: 50%;}#sk-container-id-22 div.sk-parallel-item:last-child::after {align-self: flex-start;width: 50%;}#sk-container-id-22 div.sk-parallel-item:only-child::after {width: 0;}#sk-container-id-22 div.sk-dashed-wrapped {border: 1px dashed gray;margin: 0 0.4em 0.5em 0.4em;box-sizing: border-box;padding-bottom: 0.4em;background-color: white;}#sk-container-id-22 div.sk-label label {font-family: monospace;font-weight: bold;display: inline-block;line-height: 1.2em;}#sk-container-id-22 div.sk-label-container {text-align: center;}#sk-container-id-22 div.sk-container {/* jupyter's `normalize.less` sets `[hidden] { display: none; }` but bootstrap.min.css set `[hidden] { display: none !important; }` so we also need the `!important` here to be able to override the default hidden behavior on the sphinx rendered scikit-learn.org. See: https://github.com/scikit-learn/scikit-learn/issues/21755 */display: inline-block !important;position: relative;}#sk-container-id-22 div.sk-text-repr-fallback {display: none;}</style><div id=\"sk-container-id-22\" class=\"sk-top-container\"><div class=\"sk-text-repr-fallback\"><pre>MultinomialNB()</pre><b>In a Jupyter environment, please rerun this cell to show the HTML representation or trust the notebook. <br />On GitHub, the HTML representation is unable to render, please try loading this page with nbviewer.org.</b></div><div class=\"sk-container\" hidden><div class=\"sk-item\"><div class=\"sk-estimator sk-toggleable\"><input class=\"sk-toggleable__control sk-hidden--visually\" id=\"sk-estimator-id-22\" type=\"checkbox\" checked><label for=\"sk-estimator-id-22\" class=\"sk-toggleable__label sk-toggleable__label-arrow\">MultinomialNB</label><div class=\"sk-toggleable__content\"><pre>MultinomialNB()</pre></div></div></div></div></div>"
            ]
          },
          "metadata": {},
          "execution_count": 335
        }
      ]
    },
    {
      "cell_type": "code",
      "metadata": {
        "id": "sEkxwObXi7in"
      },
      "source": [
        "label_pred=model.predict(feature_test)"
      ],
      "execution_count": 336,
      "outputs": []
    },
    {
      "cell_type": "code",
      "metadata": {
        "id": "himV19F1jLg_",
        "outputId": "0e538dcc-b6f1-4c2d-c655-2bab315b15b1",
        "colab": {
          "base_uri": "https://localhost:8080/"
        }
      },
      "source": [
        "label_pred"
      ],
      "execution_count": 337,
      "outputs": [
        {
          "output_type": "execute_result",
          "data": {
            "text/plain": [
              "array([0, 0, 0, ..., 0, 0, 0])"
            ]
          },
          "metadata": {},
          "execution_count": 337
        }
      ]
    },
    {
      "cell_type": "code",
      "metadata": {
        "id": "rJVu-Ae4jM1c",
        "outputId": "a2dbf707-d9a3-4bfe-c18e-a66101cc1d35",
        "colab": {
          "base_uri": "https://localhost:8080/"
        }
      },
      "source": [
        "label_test"
      ],
      "execution_count": 338,
      "outputs": [
        {
          "output_type": "execute_result",
          "data": {
            "text/plain": [
              "array([0, 0, 0, ..., 0, 0, 0])"
            ]
          },
          "metadata": {},
          "execution_count": 338
        }
      ]
    },
    {
      "cell_type": "code",
      "metadata": {
        "id": "NsqvG3bDjQWB",
        "outputId": "16e33898-e451-4e3b-a852-c6b6cfd22b2a",
        "colab": {
          "base_uri": "https://localhost:8080/"
        }
      },
      "source": [
        "m.accuracy_score(label_test,label_pred)"
      ],
      "execution_count": 339,
      "outputs": [
        {
          "output_type": "execute_result",
          "data": {
            "text/plain": [
              "0.9856502242152466"
            ]
          },
          "metadata": {},
          "execution_count": 339
        }
      ]
    },
    {
      "cell_type": "code",
      "source": [
        "accuracy = m.accuracy_score(label_test, label_pred)\n",
        "print(\"Accuracy:\", accuracy)\n",
        "\n",
        "conf_matrix = confusion_matrix(label_test, label_pred)\n",
        "print(\"Confusion Matrix:\")\n",
        "print(conf_matrix)\n",
        "\n",
        "plt.figure(figsize=(8, 6))\n",
        "sns.heatmap(conf_matrix, annot=True, fmt=\"d\", cmap=\"Blues\", xticklabels=True, yticklabels=True)\n",
        "plt.title(\"Confusion Matrix\")\n",
        "plt.xlabel(\"Predicted Label\")\n",
        "plt.ylabel(\"True Label\")\n",
        "plt.show()\n",
        "\n",
        "print(\"Classification Report:\")\n",
        "print(m.classification_report(label_test, label_pred))\n"
      ],
      "metadata": {
        "colab": {
          "base_uri": "https://localhost:8080/",
          "height": 807
        },
        "outputId": "fe3cd82b-2232-4166-e5a5-81668ce9ad65",
        "id": "G5l2EvQvmqZd"
      },
      "execution_count": 340,
      "outputs": [
        {
          "output_type": "stream",
          "name": "stdout",
          "text": [
            "Accuracy: 0.9856502242152466\n",
            "Confusion Matrix:\n",
            "[[960  10]\n",
            " [  6 139]]\n"
          ]
        },
        {
          "output_type": "display_data",
          "data": {
            "text/plain": [
              "<Figure size 800x600 with 2 Axes>"
            ],
            "image/png": "[encoded data removed]"
          },
          "metadata": {}
        },
        {
          "output_type": "stream",
          "name": "stdout",
          "text": [
            "Classification Report:\n",
            "              precision    recall  f1-score   support\n",
            "\n",
            "           0       0.99      0.99      0.99       970\n",
            "           1       0.93      0.96      0.95       145\n",
            "\n",
            "    accuracy                           0.99      1115\n",
            "   macro avg       0.96      0.97      0.97      1115\n",
            "weighted avg       0.99      0.99      0.99      1115\n",
            "\n"
          ]
        }
      ]
    },
    {
      "cell_type": "markdown",
      "metadata": {
        "id": "FAGqsdmrkgtx"
      },
      "source": [
        "#SVC"
      ]
    },
    {
      "cell_type": "code",
      "metadata": {
        "id": "I_aQvYyfjssE",
        "outputId": "a8b94121-7288-4b8c-bf63-07b7ba86c11f",
        "colab": {
          "base_uri": "https://localhost:8080/",
          "height": 75
        }
      },
      "source": [
        "model=SVC(kernel='linear')\n",
        "model.fit(feature_train,label_train)"
      ],
      "execution_count": 341,
      "outputs": [
        {
          "output_type": "execute_result",
          "data": {
            "text/plain": [
              "SVC(kernel='linear')"
            ],
            "text/html": [
              "<style>#sk-container-id-23 {color: black;background-color: white;}#sk-container-id-23 pre{padding: 0;}#sk-container-id-23 div.sk-toggleable {background-color: white;}#sk-container-id-23 label.sk-toggleable__label {cursor: pointer;display: block;width: 100%;margin-bottom: 0;padding: 0.3em;box-sizing: border-box;text-align: center;}#sk-container-id-23 label.sk-toggleable__label-arrow:before {content: \"▸\";float: left;margin-right: 0.25em;color: #696969;}#sk-container-id-23 label.sk-toggleable__label-arrow:hover:before {color: black;}#sk-container-id-23 div.sk-estimator:hover label.sk-toggleable__label-arrow:before {color: black;}#sk-container-id-23 div.sk-toggleable__content {max-height: 0;max-width: 0;overflow: hidden;text-align: left;background-color: #f0f8ff;}#sk-container-id-23 div.sk-toggleable__content pre {margin: 0.2em;color: black;border-radius: 0.25em;background-color: #f0f8ff;}#sk-container-id-23 input.sk-toggleable__control:checked~div.sk-toggleable__content {max-height: 200px;max-width: 100%;overflow: auto;}#sk-container-id-23 input.sk-toggleable__control:checked~label.sk-toggleable__label-arrow:before {content: \"▾\";}#sk-container-id-23 div.sk-estimator input.sk-toggleable__control:checked~label.sk-toggleable__label {background-color: #d4ebff;}#sk-container-id-23 div.sk-label input.sk-toggleable__control:checked~label.sk-toggleable__label {background-color: #d4ebff;}#sk-container-id-23 input.sk-hidden--visually {border: 0;clip: rect(1px 1px 1px 1px);clip: rect(1px, 1px, 1px, 1px);height: 1px;margin: -1px;overflow: hidden;padding: 0;position: absolute;width: 1px;}#sk-container-id-23 div.sk-estimator {font-family: monospace;background-color: #f0f8ff;border: 1px dotted black;border-radius: 0.25em;box-sizing: border-box;margin-bottom: 0.5em;}#sk-container-id-23 div.sk-estimator:hover {background-color: #d4ebff;}#sk-container-id-23 div.sk-parallel-item::after {content: \"\";width: 100%;border-bottom: 1px solid gray;flex-grow: 1;}#sk-container-id-23 div.sk-label:hover label.sk-toggleable__label {background-color: #d4ebff;}#sk-container-id-23 div.sk-serial::before {content: \"\";position: absolute;border-left: 1px solid gray;box-sizing: border-box;top: 0;bottom: 0;left: 50%;z-index: 0;}#sk-container-id-23 div.sk-serial {display: flex;flex-direction: column;align-items: center;background-color: white;padding-right: 0.2em;padding-left: 0.2em;position: relative;}#sk-container-id-23 div.sk-item {position: relative;z-index: 1;}#sk-container-id-23 div.sk-parallel {display: flex;align-items: stretch;justify-content: center;background-color: white;position: relative;}#sk-container-id-23 div.sk-item::before, #sk-container-id-23 div.sk-parallel-item::before {content: \"\";position: absolute;border-left: 1px solid gray;box-sizing: border-box;top: 0;bottom: 0;left: 50%;z-index: -1;}#sk-container-id-23 div.sk-parallel-item {display: flex;flex-direction: column;z-index: 1;position: relative;background-color: white;}#sk-container-id-23 div.sk-parallel-item:first-child::after {align-self: flex-end;width: 50%;}#sk-container-id-23 div.sk-parallel-item:last-child::after {align-self: flex-start;width: 50%;}#sk-container-id-23 div.sk-parallel-item:only-child::after {width: 0;}#sk-container-id-23 div.sk-dashed-wrapped {border: 1px dashed gray;margin: 0 0.4em 0.5em 0.4em;box-sizing: border-box;padding-bottom: 0.4em;background-color: white;}#sk-container-id-23 div.sk-label label {font-family: monospace;font-weight: bold;display: inline-block;line-height: 1.2em;}#sk-container-id-23 div.sk-label-container {text-align: center;}#sk-container-id-23 div.sk-container {/* jupyter's `normalize.less` sets `[hidden] { display: none; }` but bootstrap.min.css set `[hidden] { display: none !important; }` so we also need the `!important` here to be able to override the default hidden behavior on the sphinx rendered scikit-learn.org. See: https://github.com/scikit-learn/scikit-learn/issues/21755 */display: inline-block !important;position: relative;}#sk-container-id-23 div.sk-text-repr-fallback {display: none;}</style><div id=\"sk-container-id-23\" class=\"sk-top-container\"><div class=\"sk-text-repr-fallback\"><pre>SVC(kernel=&#x27;linear&#x27;)</pre><b>In a Jupyter environment, please rerun this cell to show the HTML representation or trust the notebook. <br />On GitHub, the HTML representation is unable to render, please try loading this page with nbviewer.org.</b></div><div class=\"sk-container\" hidden><div class=\"sk-item\"><div class=\"sk-estimator sk-toggleable\"><input class=\"sk-toggleable__control sk-hidden--visually\" id=\"sk-estimator-id-23\" type=\"checkbox\" checked><label for=\"sk-estimator-id-23\" class=\"sk-toggleable__label sk-toggleable__label-arrow\">SVC</label><div class=\"sk-toggleable__content\"><pre>SVC(kernel=&#x27;linear&#x27;)</pre></div></div></div></div></div>"
            ]
          },
          "metadata": {},
          "execution_count": 341
        }
      ]
    },
    {
      "cell_type": "code",
      "metadata": {
        "id": "9R0qd4pbkz_J"
      },
      "source": [
        "label_pred=model.predict(feature_test)"
      ],
      "execution_count": 342,
      "outputs": []
    },
    {
      "cell_type": "code",
      "metadata": {
        "id": "ZbJvGsQIk7EY",
        "outputId": "1d1e1d6b-f8fa-4fa2-d986-1e2a53bf1c99",
        "colab": {
          "base_uri": "https://localhost:8080/"
        }
      },
      "source": [
        "m.accuracy_score(label_test,label_pred)"
      ],
      "execution_count": 343,
      "outputs": [
        {
          "output_type": "execute_result",
          "data": {
            "text/plain": [
              "0.9874439461883409"
            ]
          },
          "metadata": {},
          "execution_count": 343
        }
      ]
    },
    {
      "cell_type": "code",
      "metadata": {
        "id": "5FB7MBCMk-Xs",
        "outputId": "47f635d6-850b-4e94-cfb8-d98657f6c82c",
        "colab": {
          "base_uri": "https://localhost:8080/"
        }
      },
      "source": [
        "label_pred"
      ],
      "execution_count": 344,
      "outputs": [
        {
          "output_type": "execute_result",
          "data": {
            "text/plain": [
              "array([0, 0, 0, ..., 0, 0, 0])"
            ]
          },
          "metadata": {},
          "execution_count": 344
        }
      ]
    },
    {
      "cell_type": "code",
      "metadata": {
        "id": "Du_gi2z6lBjq",
        "outputId": "ca93e6d2-1d75-49b3-e5e8-00c8f278e81e",
        "colab": {
          "base_uri": "https://localhost:8080/"
        }
      },
      "source": [
        "label_test"
      ],
      "execution_count": 345,
      "outputs": [
        {
          "output_type": "execute_result",
          "data": {
            "text/plain": [
              "array([0, 0, 0, ..., 0, 0, 0])"
            ]
          },
          "metadata": {},
          "execution_count": 345
        }
      ]
    },
    {
      "cell_type": "code",
      "source": [
        "accuracy = m.accuracy_score(label_test, label_pred)\n",
        "print(\"Accuracy:\", accuracy)\n",
        "\n",
        "conf_matrix = confusion_matrix(label_test, label_pred)\n",
        "print(\"Confusion Matrix:\")\n",
        "print(conf_matrix)\n",
        "\n",
        "plt.figure(figsize=(8, 6))\n",
        "sns.heatmap(conf_matrix, annot=True, fmt=\"d\", cmap=\"Blues\", xticklabels=True, yticklabels=True)\n",
        "plt.title(\"Confusion Matrix\")\n",
        "plt.xlabel(\"Predicted Label\")\n",
        "plt.ylabel(\"True Label\")\n",
        "plt.show()\n",
        "\n",
        "print(\"Classification Report:\")\n",
        "print(m.classification_report(label_test, label_pred))\n"
      ],
      "metadata": {
        "colab": {
          "base_uri": "https://localhost:8080/",
          "height": 807
        },
        "outputId": "bc7f0207-d085-407f-d585-2e0274cdc4bd",
        "id": "mtsFw65_moqB"
      },
      "execution_count": 346,
      "outputs": [
        {
          "output_type": "stream",
          "name": "stdout",
          "text": [
            "Accuracy: 0.9874439461883409\n",
            "Confusion Matrix:\n",
            "[[967   3]\n",
            " [ 11 134]]\n"
          ]
        },
        {
          "output_type": "display_data",
          "data": {
            "text/plain": [
              "<Figure size 800x600 with 2 Axes>"
            ],
            "image/png": "[encoded data removed]"
          },
          "metadata": {}
        },
        {
          "output_type": "stream",
          "name": "stdout",
          "text": [
            "Classification Report:\n",
            "              precision    recall  f1-score   support\n",
            "\n",
            "           0       0.99      1.00      0.99       970\n",
            "           1       0.98      0.92      0.95       145\n",
            "\n",
            "    accuracy                           0.99      1115\n",
            "   macro avg       0.98      0.96      0.97      1115\n",
            "weighted avg       0.99      0.99      0.99      1115\n",
            "\n"
          ]
        }
      ]
    },
    {
      "cell_type": "markdown",
      "metadata": {
        "id": "WkfB86DslLlV"
      },
      "source": [
        "#LogisticRegression"
      ]
    },
    {
      "cell_type": "code",
      "metadata": {
        "id": "bOFTDhZ6lIIb",
        "outputId": "d066abf6-f6e9-4130-fb0f-15c0534ced60",
        "colab": {
          "base_uri": "https://localhost:8080/",
          "height": 75
        }
      },
      "source": [
        "model=LogisticRegression()\n",
        "model.fit(feature_train,label_train)"
      ],
      "execution_count": 347,
      "outputs": [
        {
          "output_type": "execute_result",
          "data": {
            "text/plain": [
              "LogisticRegression()"
            ],
            "text/html": [
              "<style>#sk-container-id-24 {color: black;background-color: white;}#sk-container-id-24 pre{padding: 0;}#sk-container-id-24 div.sk-toggleable {background-color: white;}#sk-container-id-24 label.sk-toggleable__label {cursor: pointer;display: block;width: 100%;margin-bottom: 0;padding: 0.3em;box-sizing: border-box;text-align: center;}#sk-container-id-24 label.sk-toggleable__label-arrow:before {content: \"▸\";float: left;margin-right: 0.25em;color: #696969;}#sk-container-id-24 label.sk-toggleable__label-arrow:hover:before {color: black;}#sk-container-id-24 div.sk-estimator:hover label.sk-toggleable__label-arrow:before {color: black;}#sk-container-id-24 div.sk-toggleable__content {max-height: 0;max-width: 0;overflow: hidden;text-align: left;background-color: #f0f8ff;}#sk-container-id-24 div.sk-toggleable__content pre {margin: 0.2em;color: black;border-radius: 0.25em;background-color: #f0f8ff;}#sk-container-id-24 input.sk-toggleable__control:checked~div.sk-toggleable__content {max-height: 200px;max-width: 100%;overflow: auto;}#sk-container-id-24 input.sk-toggleable__control:checked~label.sk-toggleable__label-arrow:before {content: \"▾\";}#sk-container-id-24 div.sk-estimator input.sk-toggleable__control:checked~label.sk-toggleable__label {background-color: #d4ebff;}#sk-container-id-24 div.sk-label input.sk-toggleable__control:checked~label.sk-toggleable__label {background-color: #d4ebff;}#sk-container-id-24 input.sk-hidden--visually {border: 0;clip: rect(1px 1px 1px 1px);clip: rect(1px, 1px, 1px, 1px);height: 1px;margin: -1px;overflow: hidden;padding: 0;position: absolute;width: 1px;}#sk-container-id-24 div.sk-estimator {font-family: monospace;background-color: #f0f8ff;border: 1px dotted black;border-radius: 0.25em;box-sizing: border-box;margin-bottom: 0.5em;}#sk-container-id-24 div.sk-estimator:hover {background-color: #d4ebff;}#sk-container-id-24 div.sk-parallel-item::after {content: \"\";width: 100%;border-bottom: 1px solid gray;flex-grow: 1;}#sk-container-id-24 div.sk-label:hover label.sk-toggleable__label {background-color: #d4ebff;}#sk-container-id-24 div.sk-serial::before {content: \"\";position: absolute;border-left: 1px solid gray;box-sizing: border-box;top: 0;bottom: 0;left: 50%;z-index: 0;}#sk-container-id-24 div.sk-serial {display: flex;flex-direction: column;align-items: center;background-color: white;padding-right: 0.2em;padding-left: 0.2em;position: relative;}#sk-container-id-24 div.sk-item {position: relative;z-index: 1;}#sk-container-id-24 div.sk-parallel {display: flex;align-items: stretch;justify-content: center;background-color: white;position: relative;}#sk-container-id-24 div.sk-item::before, #sk-container-id-24 div.sk-parallel-item::before {content: \"\";position: absolute;border-left: 1px solid gray;box-sizing: border-box;top: 0;bottom: 0;left: 50%;z-index: -1;}#sk-container-id-24 div.sk-parallel-item {display: flex;flex-direction: column;z-index: 1;position: relative;background-color: white;}#sk-container-id-24 div.sk-parallel-item:first-child::after {align-self: flex-end;width: 50%;}#sk-container-id-24 div.sk-parallel-item:last-child::after {align-self: flex-start;width: 50%;}#sk-container-id-24 div.sk-parallel-item:only-child::after {width: 0;}#sk-container-id-24 div.sk-dashed-wrapped {border: 1px dashed gray;margin: 0 0.4em 0.5em 0.4em;box-sizing: border-box;padding-bottom: 0.4em;background-color: white;}#sk-container-id-24 div.sk-label label {font-family: monospace;font-weight: bold;display: inline-block;line-height: 1.2em;}#sk-container-id-24 div.sk-label-container {text-align: center;}#sk-container-id-24 div.sk-container {/* jupyter's `normalize.less` sets `[hidden] { display: none; }` but bootstrap.min.css set `[hidden] { display: none !important; }` so we also need the `!important` here to be able to override the default hidden behavior on the sphinx rendered scikit-learn.org. See: https://github.com/scikit-learn/scikit-learn/issues/21755 */display: inline-block !important;position: relative;}#sk-container-id-24 div.sk-text-repr-fallback {display: none;}</style><div id=\"sk-container-id-24\" class=\"sk-top-container\"><div class=\"sk-text-repr-fallback\"><pre>LogisticRegression()</pre><b>In a Jupyter environment, please rerun this cell to show the HTML representation or trust the notebook. <br />On GitHub, the HTML representation is unable to render, please try loading this page with nbviewer.org.</b></div><div class=\"sk-container\" hidden><div class=\"sk-item\"><div class=\"sk-estimator sk-toggleable\"><input class=\"sk-toggleable__control sk-hidden--visually\" id=\"sk-estimator-id-24\" type=\"checkbox\" checked><label for=\"sk-estimator-id-24\" class=\"sk-toggleable__label sk-toggleable__label-arrow\">LogisticRegression</label><div class=\"sk-toggleable__content\"><pre>LogisticRegression()</pre></div></div></div></div></div>"
            ]
          },
          "metadata": {},
          "execution_count": 347
        }
      ]
    },
    {
      "cell_type": "code",
      "metadata": {
        "id": "phNOuD5ylbZk"
      },
      "source": [
        "label_pred=model.predict(feature_test)"
      ],
      "execution_count": 348,
      "outputs": []
    },
    {
      "cell_type": "code",
      "metadata": {
        "id": "BHdyNIOIlfDR",
        "outputId": "28251b7b-4b91-48ce-d4c3-ccf94e9d7c18",
        "colab": {
          "base_uri": "https://localhost:8080/"
        }
      },
      "source": [
        "m.accuracy_score(label_test,label_pred)"
      ],
      "execution_count": 349,
      "outputs": [
        {
          "output_type": "execute_result",
          "data": {
            "text/plain": [
              "0.9865470852017937"
            ]
          },
          "metadata": {},
          "execution_count": 349
        }
      ]
    },
    {
      "cell_type": "code",
      "metadata": {
        "id": "5pDZn-W1lhuZ",
        "outputId": "dce62a4c-ec50-4b5c-b6a5-1d5b5a7f47d3",
        "colab": {
          "base_uri": "https://localhost:8080/"
        }
      },
      "source": [
        "label_pred"
      ],
      "execution_count": 350,
      "outputs": [
        {
          "output_type": "execute_result",
          "data": {
            "text/plain": [
              "array([0, 0, 0, ..., 0, 0, 0])"
            ]
          },
          "metadata": {},
          "execution_count": 350
        }
      ]
    },
    {
      "cell_type": "code",
      "metadata": {
        "id": "ghWpDUBElldp",
        "outputId": "122e2625-c5f0-4a09-f9f3-f600095b89cf",
        "colab": {
          "base_uri": "https://localhost:8080/"
        }
      },
      "source": [
        "label_test"
      ],
      "execution_count": 351,
      "outputs": [
        {
          "output_type": "execute_result",
          "data": {
            "text/plain": [
              "array([0, 0, 0, ..., 0, 0, 0])"
            ]
          },
          "metadata": {},
          "execution_count": 351
        }
      ]
    },
    {
      "cell_type": "code",
      "source": [
        "accuracy = m.accuracy_score(label_test, label_pred)\n",
        "print(\"Accuracy:\", accuracy)\n",
        "\n",
        "conf_matrix = confusion_matrix(label_test, label_pred)\n",
        "print(\"Confusion Matrix:\")\n",
        "print(conf_matrix)\n",
        "\n",
        "plt.figure(figsize=(8, 6))\n",
        "sns.heatmap(conf_matrix, annot=True, fmt=\"d\", cmap=\"Blues\", xticklabels=True, yticklabels=True)\n",
        "plt.title(\"Confusion Matrix\")\n",
        "plt.xlabel(\"Predicted Label\")\n",
        "plt.ylabel(\"True Label\")\n",
        "plt.show()\n",
        "\n",
        "print(\"Classification Report:\")\n",
        "print(m.classification_report(label_test, label_pred))\n"
      ],
      "metadata": {
        "colab": {
          "base_uri": "https://localhost:8080/",
          "height": 807
        },
        "outputId": "dffd1ef3-450f-4e6d-f3ac-c60db206cf0f",
        "id": "PHC88E_LmeOK"
      },
      "execution_count": 352,
      "outputs": [
        {
          "output_type": "stream",
          "name": "stdout",
          "text": [
            "Accuracy: 0.9865470852017937\n",
            "Confusion Matrix:\n",
            "[[969   1]\n",
            " [ 14 131]]\n"
          ]
        },
        {
          "output_type": "display_data",
          "data": {
            "text/plain": [
              "<Figure size 800x600 with 2 Axes>"
            ],
            "image/png": "[encoded data removed]"
          },
          "metadata": {}
        },
        {
          "output_type": "stream",
          "name": "stdout",
          "text": [
            "Classification Report:\n",
            "              precision    recall  f1-score   support\n",
            "\n",
            "           0       0.99      1.00      0.99       970\n",
            "           1       0.99      0.90      0.95       145\n",
            "\n",
            "    accuracy                           0.99      1115\n",
            "   macro avg       0.99      0.95      0.97      1115\n",
            "weighted avg       0.99      0.99      0.99      1115\n",
            "\n"
          ]
        }
      ]
    },
    {
      "cell_type": "markdown",
      "metadata": {
        "id": "bRemDpIglujQ"
      },
      "source": [
        "#Decision Tree"
      ]
    },
    {
      "cell_type": "code",
      "metadata": {
        "id": "kuEQnBi3lrzy",
        "outputId": "073735f5-3f4f-40a1-8498-8e016b4ab11b",
        "colab": {
          "base_uri": "https://localhost:8080/",
          "height": 75
        }
      },
      "source": [
        "model=DecisionTreeClassifier()\n",
        "model.fit(feature_train,label_train)\n"
      ],
      "execution_count": 353,
      "outputs": [
        {
          "output_type": "execute_result",
          "data": {
            "text/plain": [
              "DecisionTreeClassifier()"
            ],
            "text/html": [
              "<style>#sk-container-id-25 {color: black;background-color: white;}#sk-container-id-25 pre{padding: 0;}#sk-container-id-25 div.sk-toggleable {background-color: white;}#sk-container-id-25 label.sk-toggleable__label {cursor: pointer;display: block;width: 100%;margin-bottom: 0;padding: 0.3em;box-sizing: border-box;text-align: center;}#sk-container-id-25 label.sk-toggleable__label-arrow:before {content: \"▸\";float: left;margin-right: 0.25em;color: #696969;}#sk-container-id-25 label.sk-toggleable__label-arrow:hover:before {color: black;}#sk-container-id-25 div.sk-estimator:hover label.sk-toggleable__label-arrow:before {color: black;}#sk-container-id-25 div.sk-toggleable__content {max-height: 0;max-width: 0;overflow: hidden;text-align: left;background-color: #f0f8ff;}#sk-container-id-25 div.sk-toggleable__content pre {margin: 0.2em;color: black;border-radius: 0.25em;background-color: #f0f8ff;}#sk-container-id-25 input.sk-toggleable__control:checked~div.sk-toggleable__content {max-height: 200px;max-width: 100%;overflow: auto;}#sk-container-id-25 input.sk-toggleable__control:checked~label.sk-toggleable__label-arrow:before {content: \"▾\";}#sk-container-id-25 div.sk-estimator input.sk-toggleable__control:checked~label.sk-toggleable__label {background-color: #d4ebff;}#sk-container-id-25 div.sk-label input.sk-toggleable__control:checked~label.sk-toggleable__label {background-color: #d4ebff;}#sk-container-id-25 input.sk-hidden--visually {border: 0;clip: rect(1px 1px 1px 1px);clip: rect(1px, 1px, 1px, 1px);height: 1px;margin: -1px;overflow: hidden;padding: 0;position: absolute;width: 1px;}#sk-container-id-25 div.sk-estimator {font-family: monospace;background-color: #f0f8ff;border: 1px dotted black;border-radius: 0.25em;box-sizing: border-box;margin-bottom: 0.5em;}#sk-container-id-25 div.sk-estimator:hover {background-color: #d4ebff;}#sk-container-id-25 div.sk-parallel-item::after {content: \"\";width: 100%;border-bottom: 1px solid gray;flex-grow: 1;}#sk-container-id-25 div.sk-label:hover label.sk-toggleable__label {background-color: #d4ebff;}#sk-container-id-25 div.sk-serial::before {content: \"\";position: absolute;border-left: 1px solid gray;box-sizing: border-box;top: 0;bottom: 0;left: 50%;z-index: 0;}#sk-container-id-25 div.sk-serial {display: flex;flex-direction: column;align-items: center;background-color: white;padding-right: 0.2em;padding-left: 0.2em;position: relative;}#sk-container-id-25 div.sk-item {position: relative;z-index: 1;}#sk-container-id-25 div.sk-parallel {display: flex;align-items: stretch;justify-content: center;background-color: white;position: relative;}#sk-container-id-25 div.sk-item::before, #sk-container-id-25 div.sk-parallel-item::before {content: \"\";position: absolute;border-left: 1px solid gray;box-sizing: border-box;top: 0;bottom: 0;left: 50%;z-index: -1;}#sk-container-id-25 div.sk-parallel-item {display: flex;flex-direction: column;z-index: 1;position: relative;background-color: white;}#sk-container-id-25 div.sk-parallel-item:first-child::after {align-self: flex-end;width: 50%;}#sk-container-id-25 div.sk-parallel-item:last-child::after {align-self: flex-start;width: 50%;}#sk-container-id-25 div.sk-parallel-item:only-child::after {width: 0;}#sk-container-id-25 div.sk-dashed-wrapped {border: 1px dashed gray;margin: 0 0.4em 0.5em 0.4em;box-sizing: border-box;padding-bottom: 0.4em;background-color: white;}#sk-container-id-25 div.sk-label label {font-family: monospace;font-weight: bold;display: inline-block;line-height: 1.2em;}#sk-container-id-25 div.sk-label-container {text-align: center;}#sk-container-id-25 div.sk-container {/* jupyter's `normalize.less` sets `[hidden] { display: none; }` but bootstrap.min.css set `[hidden] { display: none !important; }` so we also need the `!important` here to be able to override the default hidden behavior on the sphinx rendered scikit-learn.org. See: https://github.com/scikit-learn/scikit-learn/issues/21755 */display: inline-block !important;position: relative;}#sk-container-id-25 div.sk-text-repr-fallback {display: none;}</style><div id=\"sk-container-id-25\" class=\"sk-top-container\"><div class=\"sk-text-repr-fallback\"><pre>DecisionTreeClassifier()</pre><b>In a Jupyter environment, please rerun this cell to show the HTML representation or trust the notebook. <br />On GitHub, the HTML representation is unable to render, please try loading this page with nbviewer.org.</b></div><div class=\"sk-container\" hidden><div class=\"sk-item\"><div class=\"sk-estimator sk-toggleable\"><input class=\"sk-toggleable__control sk-hidden--visually\" id=\"sk-estimator-id-25\" type=\"checkbox\" checked><label for=\"sk-estimator-id-25\" class=\"sk-toggleable__label sk-toggleable__label-arrow\">DecisionTreeClassifier</label><div class=\"sk-toggleable__content\"><pre>DecisionTreeClassifier()</pre></div></div></div></div></div>"
            ]
          },
          "metadata": {},
          "execution_count": 353
        }
      ]
    },
    {
      "cell_type": "code",
      "metadata": {
        "id": "N5bMwLg1mvCz"
      },
      "source": [
        "label_pred=model.predict(feature_test)"
      ],
      "execution_count": 354,
      "outputs": []
    },
    {
      "cell_type": "code",
      "metadata": {
        "id": "7JJEQHeKm0DG",
        "outputId": "4130bd3d-f26b-402d-fa4f-31a18aa8918a",
        "colab": {
          "base_uri": "https://localhost:8080/"
        }
      },
      "source": [
        "m.accuracy_score(label_test,label_pred)"
      ],
      "execution_count": 355,
      "outputs": [
        {
          "output_type": "execute_result",
          "data": {
            "text/plain": [
              "0.9748878923766816"
            ]
          },
          "metadata": {},
          "execution_count": 355
        }
      ]
    },
    {
      "cell_type": "code",
      "metadata": {
        "id": "8obbsNUJm453",
        "outputId": "d349d571-b5a7-4723-a23e-8f57ad1034a4",
        "colab": {
          "base_uri": "https://localhost:8080/"
        }
      },
      "source": [
        "label_pred"
      ],
      "execution_count": 356,
      "outputs": [
        {
          "output_type": "execute_result",
          "data": {
            "text/plain": [
              "array([0, 0, 0, ..., 0, 0, 0])"
            ]
          },
          "metadata": {},
          "execution_count": 356
        }
      ]
    },
    {
      "cell_type": "code",
      "metadata": {
        "id": "fp6oSxUOm-KP",
        "outputId": "05cc1b83-bbce-4428-dee1-8b3300983b11",
        "colab": {
          "base_uri": "https://localhost:8080/"
        }
      },
      "source": [
        "label_test"
      ],
      "execution_count": 357,
      "outputs": [
        {
          "output_type": "execute_result",
          "data": {
            "text/plain": [
              "array([0, 0, 0, ..., 0, 0, 0])"
            ]
          },
          "metadata": {},
          "execution_count": 357
        }
      ]
    },
    {
      "cell_type": "code",
      "source": [
        "accuracy = m.accuracy_score(label_test, label_pred)\n",
        "print(\"Accuracy:\", accuracy)\n",
        "\n",
        "conf_matrix = confusion_matrix(label_test, label_pred)\n",
        "print(\"Confusion Matrix:\")\n",
        "print(conf_matrix)\n",
        "\n",
        "plt.figure(figsize=(8, 6))\n",
        "sns.heatmap(conf_matrix, annot=True, fmt=\"d\", cmap=\"Blues\", xticklabels=True, yticklabels=True)\n",
        "plt.title(\"Confusion Matrix\")\n",
        "plt.xlabel(\"Predicted Label\")\n",
        "plt.ylabel(\"True Label\")\n",
        "plt.show()\n",
        "\n",
        "print(\"Classification Report:\")\n",
        "print(m.classification_report(label_test, label_pred))"
      ],
      "metadata": {
        "colab": {
          "base_uri": "https://localhost:8080/",
          "height": 807
        },
        "id": "gNnWenqsl1VV",
        "outputId": "5cd043b3-adb4-44dd-e1db-d51eeb409ee9"
      },
      "execution_count": 358,
      "outputs": [
        {
          "output_type": "stream",
          "name": "stdout",
          "text": [
            "Accuracy: 0.9748878923766816\n",
            "Confusion Matrix:\n",
            "[[962   8]\n",
            " [ 20 125]]\n"
          ]
        },
        {
          "output_type": "display_data",
          "data": {
            "text/plain": [
              "<Figure size 800x600 with 2 Axes>"
            ],
            "image/png": "[encoded data removed]"
          },
          "metadata": {}
        },
        {
          "output_type": "stream",
          "name": "stdout",
          "text": [
            "Classification Report:\n",
            "              precision    recall  f1-score   support\n",
            "\n",
            "           0       0.98      0.99      0.99       970\n",
            "           1       0.94      0.86      0.90       145\n",
            "\n",
            "    accuracy                           0.97      1115\n",
            "   macro avg       0.96      0.93      0.94      1115\n",
            "weighted avg       0.97      0.97      0.97      1115\n",
            "\n"
          ]
        }
      ]
    },
    {
      "cell_type": "code",
      "source": [
        "raw_mail_data = pd.read_csv('/content/mail_data.csv')"
      ],
      "metadata": {
        "id": "MkhF3HpLuZKp"
      },
      "execution_count": 359,
      "outputs": []
    },
    {
      "cell_type": "code",
      "source": [
        "print(raw_mail_data)"
      ],
      "metadata": {
        "colab": {
          "base_uri": "https://localhost:8080/"
        },
        "id": "qRcJ2qPIudTB",
        "outputId": "6a639480-63c8-44a2-ce75-be9576c0fbbd"
      },
      "execution_count": 360,
      "outputs": [
        {
          "output_type": "stream",
          "name": "stdout",
          "text": [
            "     Category                                            Message\n",
            "0         ham  Go until jurong point, crazy.. Available only ...\n",
            "1         ham                      Ok lar... Joking wif u oni...\n",
            "2        spam  Free entry in 2 a wkly comp to win FA Cup fina...\n",
            "3         ham  U dun say so early hor... U c already then say...\n",
            "4         ham  Nah I don't think he goes to usf, he lives aro...\n",
            "...       ...                                                ...\n",
            "5567     spam  This is the 2nd time we have tried 2 contact u...\n",
            "5568      ham               Will ü b going to esplanade fr home?\n",
            "5569      ham  Pity, * was in mood for that. So...any other s...\n",
            "5570      ham  The guy did some bitching but I acted like i'd...\n",
            "5571      ham                         Rofl. Its true to its name\n",
            "\n",
            "[5572 rows x 2 columns]\n"
          ]
        }
      ]
    },
    {
      "cell_type": "code",
      "source": [
        "mail_data = raw_mail_data.where((pd.notnull(raw_mail_data)),'')"
      ],
      "metadata": {
        "id": "SAkeW5XmufHv"
      },
      "execution_count": 361,
      "outputs": []
    },
    {
      "cell_type": "code",
      "source": [
        "mail_data.head()"
      ],
      "metadata": {
        "colab": {
          "base_uri": "https://localhost:8080/",
          "height": 206
        },
        "id": "NZQC7JUhugjA",
        "outputId": "62d0e052-170e-4e58-a864-9d60809bbeca"
      },
      "execution_count": 362,
      "outputs": [
        {
          "output_type": "execute_result",
          "data": {
            "text/plain": [
              "  Category                                            Message\n",
              "0      ham  Go until jurong point, crazy.. Available only ...\n",
              "1      ham                      Ok lar... Joking wif u oni...\n",
              "2     spam  Free entry in 2 a wkly comp to win FA Cup fina...\n",
              "3      ham  U dun say so early hor... U c already then say...\n",
              "4      ham  Nah I don't think he goes to usf, he lives aro..."
            ],
            "text/html": [
              "\n",
              "  <div id=\"df-89e9b159-ba0a-4c48-96a4-0062d4d6aac4\" class=\"colab-df-container\">\n",
              "    <div>\n",
              "<style scoped>\n",
              "    .dataframe tbody tr th:only-of-type {\n",
              "        vertical-align: middle;\n",
              "    }\n",
              "\n",
              "    .dataframe tbody tr th {\n",
              "        vertical-align: top;\n",
              "    }\n",
              "\n",
              "    .dataframe thead th {\n",
              "        text-align: right;\n",
              "    }\n",
              "</style>\n",
              "<table border=\"1\" class=\"dataframe\">\n",
              "  <thead>\n",
              "    <tr style=\"text-align: right;\">\n",
              "      <th></th>\n",
              "      <th>Category</th>\n",
              "      <th>Message</th>\n",
              "    </tr>\n",
              "  </thead>\n",
              "  <tbody>\n",
              "    <tr>\n",
              "      <th>0</th>\n",
              "      <td>ham</td>\n",
              "      <td>Go until jurong point, crazy.. Available only ...</td>\n",
              "    </tr>\n",
              "    <tr>\n",
              "      <th>1</th>\n",
              "      <td>ham</td>\n",
              "      <td>Ok lar... Joking wif u oni...</td>\n",
              "    </tr>\n",
              "    <tr>\n",
              "      <th>2</th>\n",
              "      <td>spam</td>\n",
              "      <td>Free entry in 2 a wkly comp to win FA Cup fina...</td>\n",
              "    </tr>\n",
              "    <tr>\n",
              "      <th>3</th>\n",
              "      <td>ham</td>\n",
              "      <td>U dun say so early hor... U c already then say...</td>\n",
              "    </tr>\n",
              "    <tr>\n",
              "      <th>4</th>\n",
              "      <td>ham</td>\n",
              "      <td>Nah I don't think he goes to usf, he lives aro...</td>\n",
              "    </tr>\n",
              "  </tbody>\n",
              "</table>\n",
              "</div>\n",
              "    <div class=\"colab-df-buttons\">\n",
              "\n",
              "  <div class=\"colab-df-container\">\n",
              "    <button class=\"colab-df-convert\" onclick=\"convertToInteractive('df-89e9b159-ba0a-4c48-96a4-0062d4d6aac4')\"\n",
              "            title=\"Convert this dataframe to an interactive table.\"\n",
              "            style=\"display:none;\">\n",
              "\n",
              "  <svg xmlns=\"http://www.w3.org/2000/svg\" height=\"24px\" viewBox=\"0 -960 960 960\">\n",
              "    <path d=\"M120-120v-720h720v720H120Zm60-500h600v-160H180v160Zm220 220h160v-160H400v160Zm0 220h160v-160H400v160ZM180-400h160v-160H180v160Zm440 0h160v-160H620v160ZM180-180h160v-160H180v160Zm440 0h160v-160H620v160Z\"/>\n",
              "  </svg>\n",
              "    </button>\n",
              "\n",
              "  <style>\n",
              "    .colab-df-container {\n",
              "      display:flex;\n",
              "      gap: 12px;\n",
              "    }\n",
              "\n",
              "    .colab-df-convert {\n",
              "      background-color: #E8F0FE;\n",
              "      border: none;\n",
              "      border-radius: 50%;\n",
              "      cursor: pointer;\n",
              "      display: none;\n",
              "      fill: #1967D2;\n",
              "      height: 32px;\n",
              "      padding: 0 0 0 0;\n",
              "      width: 32px;\n",
              "    }\n",
              "\n",
              "    .colab-df-convert:hover {\n",
              "      background-color: #E2EBFA;\n",
              "      box-shadow: 0px 1px 2px rgba(60, 64, 67, 0.3), 0px 1px 3px 1px rgba(60, 64, 67, 0.15);\n",
              "      fill: #174EA6;\n",
              "    }\n",
              "\n",
              "    .colab-df-buttons div {\n",
              "      margin-bottom: 4px;\n",
              "    }\n",
              "\n",
              "    [theme=dark] .colab-df-convert {\n",
              "      background-color: #3B4455;\n",
              "      fill: #D2E3FC;\n",
              "    }\n",
              "\n",
              "    [theme=dark] .colab-df-convert:hover {\n",
              "      background-color: #434B5C;\n",
              "      box-shadow: 0px 1px 3px 1px rgba(0, 0, 0, 0.15);\n",
              "      filter: drop-shadow(0px 1px 2px rgba(0, 0, 0, 0.3));\n",
              "      fill: #FFFFFF;\n",
              "    }\n",
              "  </style>\n",
              "\n",
              "    <script>\n",
              "      const buttonEl =\n",
              "        document.querySelector('#df-89e9b159-ba0a-4c48-96a4-0062d4d6aac4 button.colab-df-convert');\n",
              "      buttonEl.style.display =\n",
              "        google.colab.kernel.accessAllowed ? 'block' : 'none';\n",
              "\n",
              "      async function convertToInteractive(key) {\n",
              "        const element = document.querySelector('#df-89e9b159-ba0a-4c48-96a4-0062d4d6aac4');\n",
              "        const dataTable =\n",
              "          await google.colab.kernel.invokeFunction('convertToInteractive',\n",
              "                                                    [key], {});\n",
              "        if (!dataTable) return;\n",
              "\n",
              "        const docLinkHtml = 'Like what you see? Visit the ' +\n",
              "          '<a target=\"_blank\" href=https://colab.research.google.com/notebooks/data_table.ipynb>data table notebook</a>'\n",
              "          + ' to learn more about interactive tables.';\n",
              "        element.innerHTML = '';\n",
              "        dataTable['output_type'] = 'display_data';\n",
              "        await google.colab.output.renderOutput(dataTable, element);\n",
              "        const docLink = document.createElement('div');\n",
              "        docLink.innerHTML = docLinkHtml;\n",
              "        element.appendChild(docLink);\n",
              "      }\n",
              "    </script>\n",
              "  </div>\n",
              "\n",
              "\n",
              "<div id=\"df-b1339f1c-7e69-44c6-83cb-528691cbab83\">\n",
              "  <button class=\"colab-df-quickchart\" onclick=\"quickchart('df-b1339f1c-7e69-44c6-83cb-528691cbab83')\"\n",
              "            title=\"Suggest charts\"\n",
              "            style=\"display:none;\">\n",
              "\n",
              "<svg xmlns=\"http://www.w3.org/2000/svg\" height=\"24px\"viewBox=\"0 0 24 24\"\n",
              "     width=\"24px\">\n",
              "    <g>\n",
              "        <path d=\"M19 3H5c-1.1 0-2 .9-2 2v14c0 1.1.9 2 2 2h14c1.1 0 2-.9 2-2V5c0-1.1-.9-2-2-2zM9 17H7v-7h2v7zm4 0h-2V7h2v10zm4 0h-2v-4h2v4z\"/>\n",
              "    </g>\n",
              "</svg>\n",
              "  </button>\n",
              "\n",
              "<style>\n",
              "  .colab-df-quickchart {\n",
              "      --bg-color: #E8F0FE;\n",
              "      --fill-color: #1967D2;\n",
              "      --hover-bg-color: #E2EBFA;\n",
              "      --hover-fill-color: #174EA6;\n",
              "      --disabled-fill-color: #AAA;\n",
              "      --disabled-bg-color: #DDD;\n",
              "  }\n",
              "\n",
              "  [theme=dark] .colab-df-quickchart {\n",
              "      --bg-color: #3B4455;\n",
              "      --fill-color: #D2E3FC;\n",
              "      --hover-bg-color: #434B5C;\n",
              "      --hover-fill-color: #FFFFFF;\n",
              "      --disabled-bg-color: #3B4455;\n",
              "      --disabled-fill-color: #666;\n",
              "  }\n",
              "\n",
              "  .colab-df-quickchart {\n",
              "    background-color: var(--bg-color);\n",
              "    border: none;\n",
              "    border-radius: 50%;\n",
              "    cursor: pointer;\n",
              "    display: none;\n",
              "    fill: var(--fill-color);\n",
              "    height: 32px;\n",
              "    padding: 0;\n",
              "    width: 32px;\n",
              "  }\n",
              "\n",
              "  .colab-df-quickchart:hover {\n",
              "    background-color: var(--hover-bg-color);\n",
              "    box-shadow: 0 1px 2px rgba(60, 64, 67, 0.3), 0 1px 3px 1px rgba(60, 64, 67, 0.15);\n",
              "    fill: var(--button-hover-fill-color);\n",
              "  }\n",
              "\n",
              "  .colab-df-quickchart-complete:disabled,\n",
              "  .colab-df-quickchart-complete:disabled:hover {\n",
              "    background-color: var(--disabled-bg-color);\n",
              "    fill: var(--disabled-fill-color);\n",
              "    box-shadow: none;\n",
              "  }\n",
              "\n",
              "  .colab-df-spinner {\n",
              "    border: 2px solid var(--fill-color);\n",
              "    border-color: transparent;\n",
              "    border-bottom-color: var(--fill-color);\n",
              "    animation:\n",
              "      spin 1s steps(1) infinite;\n",
              "  }\n",
              "\n",
              "  @keyframes spin {\n",
              "    0% {\n",
              "      border-color: transparent;\n",
              "      border-bottom-color: var(--fill-color);\n",
              "      border-left-color: var(--fill-color);\n",
              "    }\n",
              "    20% {\n",
              "      border-color: transparent;\n",
              "      border-left-color: var(--fill-color);\n",
              "      border-top-color: var(--fill-color);\n",
              "    }\n",
              "    30% {\n",
              "      border-color: transparent;\n",
              "      border-left-color: var(--fill-color);\n",
              "      border-top-color: var(--fill-color);\n",
              "      border-right-color: var(--fill-color);\n",
              "    }\n",
              "    40% {\n",
              "      border-color: transparent;\n",
              "      border-right-color: var(--fill-color);\n",
              "      border-top-color: var(--fill-color);\n",
              "    }\n",
              "    60% {\n",
              "      border-color: transparent;\n",
              "      border-right-color: var(--fill-color);\n",
              "    }\n",
              "    80% {\n",
              "      border-color: transparent;\n",
              "      border-right-color: var(--fill-color);\n",
              "      border-bottom-color: var(--fill-color);\n",
              "    }\n",
              "    90% {\n",
              "      border-color: transparent;\n",
              "      border-bottom-color: var(--fill-color);\n",
              "    }\n",
              "  }\n",
              "</style>\n",
              "\n",
              "  <script>\n",
              "    async function quickchart(key) {\n",
              "      const quickchartButtonEl =\n",
              "        document.querySelector('#' + key + ' button');\n",
              "      quickchartButtonEl.disabled = true;  // To prevent multiple clicks.\n",
              "      quickchartButtonEl.classList.add('colab-df-spinner');\n",
              "      try {\n",
              "        const charts = await google.colab.kernel.invokeFunction(\n",
              "            'suggestCharts', [key], {});\n",
              "      } catch (error) {\n",
              "        console.error('Error during call to suggestCharts:', error);\n",
              "      }\n",
              "      quickchartButtonEl.classList.remove('colab-df-spinner');\n",
              "      quickchartButtonEl.classList.add('colab-df-quickchart-complete');\n",
              "    }\n",
              "    (() => {\n",
              "      let quickchartButtonEl =\n",
              "        document.querySelector('#df-b1339f1c-7e69-44c6-83cb-528691cbab83 button');\n",
              "      quickchartButtonEl.style.display =\n",
              "        google.colab.kernel.accessAllowed ? 'block' : 'none';\n",
              "    })();\n",
              "  </script>\n",
              "</div>\n",
              "\n",
              "    </div>\n",
              "  </div>\n"
            ]
          },
          "metadata": {},
          "execution_count": 362
        }
      ]
    },
    {
      "cell_type": "code",
      "source": [
        "mail_data.shape"
      ],
      "metadata": {
        "colab": {
          "base_uri": "https://localhost:8080/"
        },
        "id": "N8hTjxH9uiQw",
        "outputId": "53218dd3-7838-499d-d8a9-da18c701d9c6"
      },
      "execution_count": 363,
      "outputs": [
        {
          "output_type": "execute_result",
          "data": {
            "text/plain": [
              "(5572, 2)"
            ]
          },
          "metadata": {},
          "execution_count": 363
        }
      ]
    },
    {
      "cell_type": "code",
      "source": [
        "mail_data.loc[mail_data['Category'] == 'spam', 'Category',] = 0\n",
        "mail_data.loc[mail_data['Category'] == 'ham', 'Category',] = 1"
      ],
      "metadata": {
        "id": "xZCzDHMHuldo"
      },
      "execution_count": 364,
      "outputs": []
    },
    {
      "cell_type": "code",
      "source": [
        "X = mail_data['Message']\n",
        "\n",
        "Y = mail_data['Category']"
      ],
      "metadata": {
        "id": "rgrOirJZundh"
      },
      "execution_count": 365,
      "outputs": []
    },
    {
      "cell_type": "code",
      "source": [
        "print(X)"
      ],
      "metadata": {
        "colab": {
          "base_uri": "https://localhost:8080/"
        },
        "id": "jO-YnMjdupB_",
        "outputId": "229b1446-1459-435d-a65c-02c70f1d833d"
      },
      "execution_count": 366,
      "outputs": [
        {
          "output_type": "stream",
          "name": "stdout",
          "text": [
            "0       Go until jurong point, crazy.. Available only ...\n",
            "1                           Ok lar... Joking wif u oni...\n",
            "2       Free entry in 2 a wkly comp to win FA Cup fina...\n",
            "3       U dun say so early hor... U c already then say...\n",
            "4       Nah I don't think he goes to usf, he lives aro...\n",
            "                              ...                        \n",
            "5567    This is the 2nd time we have tried 2 contact u...\n",
            "5568                 Will ü b going to esplanade fr home?\n",
            "5569    Pity, * was in mood for that. So...any other s...\n",
            "5570    The guy did some bitching but I acted like i'd...\n",
            "5571                           Rofl. Its true to its name\n",
            "Name: Message, Length: 5572, dtype: object\n"
          ]
        }
      ]
    },
    {
      "cell_type": "code",
      "source": [
        "print(Y)"
      ],
      "metadata": {
        "colab": {
          "base_uri": "https://localhost:8080/"
        },
        "id": "nvbA4w8wuqgQ",
        "outputId": "142dc948-8925-4cd5-fdb3-ab54a8a7118c"
      },
      "execution_count": 367,
      "outputs": [
        {
          "output_type": "stream",
          "name": "stdout",
          "text": [
            "0       1\n",
            "1       1\n",
            "2       0\n",
            "3       1\n",
            "4       1\n",
            "       ..\n",
            "5567    0\n",
            "5568    1\n",
            "5569    1\n",
            "5570    1\n",
            "5571    1\n",
            "Name: Category, Length: 5572, dtype: object\n"
          ]
        }
      ]
    },
    {
      "cell_type": "code",
      "source": [
        "X_train, X_test, Y_train, Y_test = train_test_split(X, Y, test_size=0.2, random_state=3)"
      ],
      "metadata": {
        "id": "NxqP0dMCus-o"
      },
      "execution_count": 368,
      "outputs": []
    },
    {
      "cell_type": "code",
      "source": [
        "print(X.shape)\n",
        "print(X_train.shape)\n",
        "print(X_test.shape)"
      ],
      "metadata": {
        "colab": {
          "base_uri": "https://localhost:8080/"
        },
        "id": "8naX1qfluusP",
        "outputId": "0213f126-33b5-4a05-feaa-75a4388f22c1"
      },
      "execution_count": 369,
      "outputs": [
        {
          "output_type": "stream",
          "name": "stdout",
          "text": [
            "(5572,)\n",
            "(4457,)\n",
            "(1115,)\n"
          ]
        }
      ]
    },
    {
      "cell_type": "code",
      "source": [
        "feature_extraction = TfidfVectorizer(min_df = 1, stop_words='english', lowercase=True)\n",
        "\n",
        "X_train_features = feature_extraction.fit_transform(X_train)\n",
        "X_test_features = feature_extraction.transform(X_test)\n",
        "\n",
        "Y_train = Y_train.astype('int')\n",
        "Y_test = Y_test.astype('int')"
      ],
      "metadata": {
        "id": "i9MYtzrmuwUo"
      },
      "execution_count": 370,
      "outputs": []
    },
    {
      "cell_type": "code",
      "source": [
        "print(X_train)"
      ],
      "metadata": {
        "colab": {
          "base_uri": "https://localhost:8080/"
        },
        "id": "Kkhl3TvWu1Jx",
        "outputId": "a5e08c71-beca-46e3-c20c-d1603b657edb"
      },
      "execution_count": 371,
      "outputs": [
        {
          "output_type": "stream",
          "name": "stdout",
          "text": [
            "3075                  Don know. I did't msg him recently.\n",
            "1787    Do you know why god created gap between your f...\n",
            "1614                         Thnx dude. u guys out 2nite?\n",
            "4304                                      Yup i'm free...\n",
            "3266    44 7732584351, Do you want a New Nokia 3510i c...\n",
            "                              ...                        \n",
            "789     5 Free Top Polyphonic Tones call 087018728737,...\n",
            "968     What do u want when i come back?.a beautiful n...\n",
            "1667    Guess who spent all last night phasing in and ...\n",
            "3321    Eh sorry leh... I din c ur msg. Not sad alread...\n",
            "1688    Free Top ringtone -sub to weekly ringtone-get ...\n",
            "Name: Message, Length: 4457, dtype: object\n"
          ]
        }
      ]
    },
    {
      "cell_type": "code",
      "source": [
        "print(X_train_features)"
      ],
      "metadata": {
        "colab": {
          "base_uri": "https://localhost:8080/"
        },
        "id": "f2wsScYnu2ng",
        "outputId": "28b4531c-4d71-4322-c555-80fe53047678"
      },
      "execution_count": 372,
      "outputs": [
        {
          "output_type": "stream",
          "name": "stdout",
          "text": [
            "  (0, 5413)\t0.6198254967574347\n",
            "  (0, 4456)\t0.4168658090846482\n",
            "  (0, 2224)\t0.413103377943378\n",
            "  (0, 3811)\t0.34780165336891333\n",
            "  (0, 2329)\t0.38783870336935383\n",
            "  (1, 4080)\t0.18880584110891163\n",
            "  (1, 3185)\t0.29694482957694585\n",
            "  (1, 3325)\t0.31610586766078863\n",
            "  (1, 2957)\t0.3398297002864083\n",
            "  (1, 2746)\t0.3398297002864083\n",
            "  (1, 918)\t0.22871581159877646\n",
            "  (1, 1839)\t0.2784903590561455\n",
            "  (1, 2758)\t0.3226407885943799\n",
            "  (1, 2956)\t0.33036995955537024\n",
            "  (1, 1991)\t0.33036995955537024\n",
            "  (1, 3046)\t0.2503712792613518\n",
            "  (1, 3811)\t0.17419952275504033\n",
            "  (2, 407)\t0.509272536051008\n",
            "  (2, 3156)\t0.4107239318312698\n",
            "  (2, 2404)\t0.45287711070606745\n",
            "  (2, 6601)\t0.6056811524587518\n",
            "  (3, 2870)\t0.5864269879324768\n",
            "  (3, 7414)\t0.8100020912469564\n",
            "  (4, 50)\t0.23633754072626942\n",
            "  (4, 5497)\t0.15743785051118356\n",
            "  :\t:\n",
            "  (4454, 4602)\t0.2669765732445391\n",
            "  (4454, 3142)\t0.32014451677763156\n",
            "  (4455, 2247)\t0.37052851863170466\n",
            "  (4455, 2469)\t0.35441545511837946\n",
            "  (4455, 5646)\t0.33545678464631296\n",
            "  (4455, 6810)\t0.29731757715898277\n",
            "  (4455, 6091)\t0.23103841516927642\n",
            "  (4455, 7113)\t0.30536590342067704\n",
            "  (4455, 3872)\t0.3108911491788658\n",
            "  (4455, 4715)\t0.30714144758811196\n",
            "  (4455, 6916)\t0.19636985317119715\n",
            "  (4455, 3922)\t0.31287563163368587\n",
            "  (4455, 4456)\t0.24920025316220423\n",
            "  (4456, 141)\t0.292943737785358\n",
            "  (4456, 647)\t0.30133182431707617\n",
            "  (4456, 6311)\t0.30133182431707617\n",
            "  (4456, 5569)\t0.4619395404299172\n",
            "  (4456, 6028)\t0.21034888000987115\n",
            "  (4456, 7154)\t0.24083218452280053\n",
            "  (4456, 7150)\t0.3677554681447669\n",
            "  (4456, 6249)\t0.17573831794959716\n",
            "  (4456, 6307)\t0.2752760476857975\n",
            "  (4456, 334)\t0.2220077711654938\n",
            "  (4456, 5778)\t0.16243064490100795\n",
            "  (4456, 2870)\t0.31523196273113385\n"
          ]
        }
      ]
    },
    {
      "cell_type": "code",
      "source": [
        "model = LogisticRegression()"
      ],
      "metadata": {
        "id": "hodTKPMpu43A"
      },
      "execution_count": 373,
      "outputs": []
    },
    {
      "cell_type": "code",
      "source": [
        "model.fit(X_train_features, Y_train)"
      ],
      "metadata": {
        "colab": {
          "base_uri": "https://localhost:8080/",
          "height": 75
        },
        "id": "dXUV95sTu6Iw",
        "outputId": "97fb750d-3bae-47f3-9845-586cadc54a97"
      },
      "execution_count": 374,
      "outputs": [
        {
          "output_type": "execute_result",
          "data": {
            "text/plain": [
              "LogisticRegression()"
            ],
            "text/html": [
              "<style>#sk-container-id-26 {color: black;background-color: white;}#sk-container-id-26 pre{padding: 0;}#sk-container-id-26 div.sk-toggleable {background-color: white;}#sk-container-id-26 label.sk-toggleable__label {cursor: pointer;display: block;width: 100%;margin-bottom: 0;padding: 0.3em;box-sizing: border-box;text-align: center;}#sk-container-id-26 label.sk-toggleable__label-arrow:before {content: \"▸\";float: left;margin-right: 0.25em;color: #696969;}#sk-container-id-26 label.sk-toggleable__label-arrow:hover:before {color: black;}#sk-container-id-26 div.sk-estimator:hover label.sk-toggleable__label-arrow:before {color: black;}#sk-container-id-26 div.sk-toggleable__content {max-height: 0;max-width: 0;overflow: hidden;text-align: left;background-color: #f0f8ff;}#sk-container-id-26 div.sk-toggleable__content pre {margin: 0.2em;color: black;border-radius: 0.25em;background-color: #f0f8ff;}#sk-container-id-26 input.sk-toggleable__control:checked~div.sk-toggleable__content {max-height: 200px;max-width: 100%;overflow: auto;}#sk-container-id-26 input.sk-toggleable__control:checked~label.sk-toggleable__label-arrow:before {content: \"▾\";}#sk-container-id-26 div.sk-estimator input.sk-toggleable__control:checked~label.sk-toggleable__label {background-color: #d4ebff;}#sk-container-id-26 div.sk-label input.sk-toggleable__control:checked~label.sk-toggleable__label {background-color: #d4ebff;}#sk-container-id-26 input.sk-hidden--visually {border: 0;clip: rect(1px 1px 1px 1px);clip: rect(1px, 1px, 1px, 1px);height: 1px;margin: -1px;overflow: hidden;padding: 0;position: absolute;width: 1px;}#sk-container-id-26 div.sk-estimator {font-family: monospace;background-color: #f0f8ff;border: 1px dotted black;border-radius: 0.25em;box-sizing: border-box;margin-bottom: 0.5em;}#sk-container-id-26 div.sk-estimator:hover {background-color: #d4ebff;}#sk-container-id-26 div.sk-parallel-item::after {content: \"\";width: 100%;border-bottom: 1px solid gray;flex-grow: 1;}#sk-container-id-26 div.sk-label:hover label.sk-toggleable__label {background-color: #d4ebff;}#sk-container-id-26 div.sk-serial::before {content: \"\";position: absolute;border-left: 1px solid gray;box-sizing: border-box;top: 0;bottom: 0;left: 50%;z-index: 0;}#sk-container-id-26 div.sk-serial {display: flex;flex-direction: column;align-items: center;background-color: white;padding-right: 0.2em;padding-left: 0.2em;position: relative;}#sk-container-id-26 div.sk-item {position: relative;z-index: 1;}#sk-container-id-26 div.sk-parallel {display: flex;align-items: stretch;justify-content: center;background-color: white;position: relative;}#sk-container-id-26 div.sk-item::before, #sk-container-id-26 div.sk-parallel-item::before {content: \"\";position: absolute;border-left: 1px solid gray;box-sizing: border-box;top: 0;bottom: 0;left: 50%;z-index: -1;}#sk-container-id-26 div.sk-parallel-item {display: flex;flex-direction: column;z-index: 1;position: relative;background-color: white;}#sk-container-id-26 div.sk-parallel-item:first-child::after {align-self: flex-end;width: 50%;}#sk-container-id-26 div.sk-parallel-item:last-child::after {align-self: flex-start;width: 50%;}#sk-container-id-26 div.sk-parallel-item:only-child::after {width: 0;}#sk-container-id-26 div.sk-dashed-wrapped {border: 1px dashed gray;margin: 0 0.4em 0.5em 0.4em;box-sizing: border-box;padding-bottom: 0.4em;background-color: white;}#sk-container-id-26 div.sk-label label {font-family: monospace;font-weight: bold;display: inline-block;line-height: 1.2em;}#sk-container-id-26 div.sk-label-container {text-align: center;}#sk-container-id-26 div.sk-container {/* jupyter's `normalize.less` sets `[hidden] { display: none; }` but bootstrap.min.css set `[hidden] { display: none !important; }` so we also need the `!important` here to be able to override the default hidden behavior on the sphinx rendered scikit-learn.org. See: https://github.com/scikit-learn/scikit-learn/issues/21755 */display: inline-block !important;position: relative;}#sk-container-id-26 div.sk-text-repr-fallback {display: none;}</style><div id=\"sk-container-id-26\" class=\"sk-top-container\"><div class=\"sk-text-repr-fallback\"><pre>LogisticRegression()</pre><b>In a Jupyter environment, please rerun this cell to show the HTML representation or trust the notebook. <br />On GitHub, the HTML representation is unable to render, please try loading this page with nbviewer.org.</b></div><div class=\"sk-container\" hidden><div class=\"sk-item\"><div class=\"sk-estimator sk-toggleable\"><input class=\"sk-toggleable__control sk-hidden--visually\" id=\"sk-estimator-id-26\" type=\"checkbox\" checked><label for=\"sk-estimator-id-26\" class=\"sk-toggleable__label sk-toggleable__label-arrow\">LogisticRegression</label><div class=\"sk-toggleable__content\"><pre>LogisticRegression()</pre></div></div></div></div></div>"
            ]
          },
          "metadata": {},
          "execution_count": 374
        }
      ]
    },
    {
      "cell_type": "code",
      "source": [
        "prediction_on_training_data = model.predict(X_train_features)\n",
        "accuracy_on_training_data = accuracy_score(Y_train, prediction_on_training_data)"
      ],
      "metadata": {
        "id": "JIRCDEe_u7yq"
      },
      "execution_count": 375,
      "outputs": []
    },
    {
      "cell_type": "code",
      "source": [
        "print('Accuracy on training data : ', accuracy_on_training_data)"
      ],
      "metadata": {
        "colab": {
          "base_uri": "https://localhost:8080/"
        },
        "id": "ObcF9V-jvHX3",
        "outputId": "7eaf8b0c-c660-4fef-c366-7a2f39e568b7"
      },
      "execution_count": 376,
      "outputs": [
        {
          "output_type": "stream",
          "name": "stdout",
          "text": [
            "Accuracy on training data :  0.9670181736594121\n"
          ]
        }
      ]
    },
    {
      "cell_type": "code",
      "source": [
        "prediction_on_test_data = model.predict(X_test_features)\n",
        "accuracy_on_test_data = accuracy_score(Y_test, prediction_on_test_data)"
      ],
      "metadata": {
        "id": "j_I8LjWBvKQg"
      },
      "execution_count": 377,
      "outputs": []
    },
    {
      "cell_type": "code",
      "source": [
        "print('Accuracy on test data : ', accuracy_on_test_data)"
      ],
      "metadata": {
        "colab": {
          "base_uri": "https://localhost:8080/"
        },
        "id": "0nbpw-J1vLlh",
        "outputId": "f37ff218-f998-4c63-d222-ad37b7e12d06"
      },
      "execution_count": 378,
      "outputs": [
        {
          "output_type": "stream",
          "name": "stdout",
          "text": [
            "Accuracy on test data :  0.9659192825112107\n"
          ]
        }
      ]
    },
    {
      "cell_type": "code",
      "source": [
        "input_mail = [\"Free entry in 2 a wkly comp to win FA Cup final tkts 21st May 2005. Text FA to 87121 to receive entry question(std txt rate)T&C's apply 08452810075over18's\"]\n",
        "input_data_features = feature_extraction.transform(input_mail)\n",
        "\n",
        "prediction = model.predict(input_data_features)\n",
        "print(prediction)\n",
        "\n",
        "if (prediction[0]==1):\n",
        "  print('Not Spam.')\n",
        "\n",
        "else:\n",
        "  print('This is a Spam!')"
      ],
      "metadata": {
        "colab": {
          "base_uri": "https://localhost:8080/"
        },
        "id": "Yy3bPIonvOQX",
        "outputId": "ac8bfbf8-fa27-455e-b7c1-13b6f2f5dfba"
      },
      "execution_count": 380,
      "outputs": [
        {
          "output_type": "stream",
          "name": "stdout",
          "text": [
            "[0]\n",
            "This is a Spam!\n"
          ]
        }
      ]
    }
  ]
}